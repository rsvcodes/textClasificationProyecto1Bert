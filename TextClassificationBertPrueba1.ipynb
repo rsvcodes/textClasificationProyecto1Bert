{
  "nbformat": 4,
  "nbformat_minor": 0,
  "metadata": {
    "colab": {
      "provenance": []
    },
    "kernelspec": {
      "name": "python3",
      "display_name": "Python 3"
    },
    "language_info": {
      "name": "python"
    }
  },
  "cells": [
    {
      "cell_type": "code",
      "source": [
        "!pip  install transformers==4.22.1 -q"
      ],
      "metadata": {
        "id": "hnbU73ZpOI6u"
      },
      "execution_count": 239,
      "outputs": []
    },
    {
      "cell_type": "code",
      "source": [
        "import transformers"
      ],
      "metadata": {
        "id": "ItoGLSObOKpx"
      },
      "execution_count": 240,
      "outputs": []
    },
    {
      "cell_type": "code",
      "source": [
        "!pip install tensorflow_probability==0.13.0"
      ],
      "metadata": {
        "colab": {
          "base_uri": "https://localhost:8080/"
        },
        "id": "X4Im0MKnOMGS",
        "outputId": "e013a0af-ef93-48a3-a29e-a6ea51a22a8d"
      },
      "execution_count": 241,
      "outputs": [
        {
          "output_type": "stream",
          "name": "stdout",
          "text": [
            "Requirement already satisfied: tensorflow_probability==0.13.0 in /usr/local/lib/python3.10/dist-packages (0.13.0)\n",
            "Requirement already satisfied: six>=1.10.0 in /usr/local/lib/python3.10/dist-packages (from tensorflow_probability==0.13.0) (1.16.0)\n",
            "Requirement already satisfied: numpy>=1.13.3 in /usr/local/lib/python3.10/dist-packages (from tensorflow_probability==0.13.0) (1.22.4)\n",
            "Requirement already satisfied: decorator in /usr/local/lib/python3.10/dist-packages (from tensorflow_probability==0.13.0) (4.4.2)\n",
            "Requirement already satisfied: cloudpickle>=1.3 in /usr/local/lib/python3.10/dist-packages (from tensorflow_probability==0.13.0) (2.2.1)\n",
            "Requirement already satisfied: gast>=0.3.2 in /usr/local/lib/python3.10/dist-packages (from tensorflow_probability==0.13.0) (0.4.0)\n",
            "Requirement already satisfied: dm-tree in /usr/local/lib/python3.10/dist-packages (from tensorflow_probability==0.13.0) (0.1.8)\n"
          ]
        }
      ]
    },
    {
      "cell_type": "code",
      "source": [
        "!pip install -U tensorflow==2.10"
      ],
      "metadata": {
        "colab": {
          "base_uri": "https://localhost:8080/"
        },
        "id": "nCTTCGX2ON48",
        "outputId": "c1d262fc-4f13-4f62-f1c8-91846471ad9d"
      },
      "execution_count": 242,
      "outputs": [
        {
          "output_type": "stream",
          "name": "stdout",
          "text": [
            "Requirement already satisfied: tensorflow==2.10 in /usr/local/lib/python3.10/dist-packages (2.10.0)\n",
            "Requirement already satisfied: absl-py>=1.0.0 in /usr/local/lib/python3.10/dist-packages (from tensorflow==2.10) (1.4.0)\n",
            "Requirement already satisfied: astunparse>=1.6.0 in /usr/local/lib/python3.10/dist-packages (from tensorflow==2.10) (1.6.3)\n",
            "Requirement already satisfied: flatbuffers>=2.0 in /usr/local/lib/python3.10/dist-packages (from tensorflow==2.10) (23.5.26)\n",
            "Requirement already satisfied: gast<=0.4.0,>=0.2.1 in /usr/local/lib/python3.10/dist-packages (from tensorflow==2.10) (0.4.0)\n",
            "Requirement already satisfied: google-pasta>=0.1.1 in /usr/local/lib/python3.10/dist-packages (from tensorflow==2.10) (0.2.0)\n",
            "Requirement already satisfied: grpcio<2.0,>=1.24.3 in /usr/local/lib/python3.10/dist-packages (from tensorflow==2.10) (1.56.0)\n",
            "Requirement already satisfied: h5py>=2.9.0 in /usr/local/lib/python3.10/dist-packages (from tensorflow==2.10) (3.8.0)\n",
            "Requirement already satisfied: keras<2.11,>=2.10.0 in /usr/local/lib/python3.10/dist-packages (from tensorflow==2.10) (2.10.0)\n",
            "Requirement already satisfied: keras-preprocessing>=1.1.1 in /usr/local/lib/python3.10/dist-packages (from tensorflow==2.10) (1.1.2)\n",
            "Requirement already satisfied: libclang>=13.0.0 in /usr/local/lib/python3.10/dist-packages (from tensorflow==2.10) (16.0.0)\n",
            "Requirement already satisfied: numpy>=1.20 in /usr/local/lib/python3.10/dist-packages (from tensorflow==2.10) (1.22.4)\n",
            "Requirement already satisfied: opt-einsum>=2.3.2 in /usr/local/lib/python3.10/dist-packages (from tensorflow==2.10) (3.3.0)\n",
            "Requirement already satisfied: packaging in /usr/local/lib/python3.10/dist-packages (from tensorflow==2.10) (23.1)\n",
            "Requirement already satisfied: protobuf<3.20,>=3.9.2 in /usr/local/lib/python3.10/dist-packages (from tensorflow==2.10) (3.19.6)\n",
            "Requirement already satisfied: setuptools in /usr/local/lib/python3.10/dist-packages (from tensorflow==2.10) (67.7.2)\n",
            "Requirement already satisfied: six>=1.12.0 in /usr/local/lib/python3.10/dist-packages (from tensorflow==2.10) (1.16.0)\n",
            "Requirement already satisfied: tensorboard<2.11,>=2.10 in /usr/local/lib/python3.10/dist-packages (from tensorflow==2.10) (2.10.1)\n",
            "Requirement already satisfied: tensorflow-io-gcs-filesystem>=0.23.1 in /usr/local/lib/python3.10/dist-packages (from tensorflow==2.10) (0.32.0)\n",
            "Requirement already satisfied: tensorflow-estimator<2.11,>=2.10.0 in /usr/local/lib/python3.10/dist-packages (from tensorflow==2.10) (2.10.0)\n",
            "Requirement already satisfied: termcolor>=1.1.0 in /usr/local/lib/python3.10/dist-packages (from tensorflow==2.10) (2.3.0)\n",
            "Requirement already satisfied: typing-extensions>=3.6.6 in /usr/local/lib/python3.10/dist-packages (from tensorflow==2.10) (4.7.1)\n",
            "Requirement already satisfied: wrapt>=1.11.0 in /usr/local/lib/python3.10/dist-packages (from tensorflow==2.10) (1.14.1)\n",
            "Requirement already satisfied: wheel<1.0,>=0.23.0 in /usr/local/lib/python3.10/dist-packages (from astunparse>=1.6.0->tensorflow==2.10) (0.40.0)\n",
            "Requirement already satisfied: google-auth<3,>=1.6.3 in /usr/local/lib/python3.10/dist-packages (from tensorboard<2.11,>=2.10->tensorflow==2.10) (2.17.3)\n",
            "Requirement already satisfied: google-auth-oauthlib<0.5,>=0.4.1 in /usr/local/lib/python3.10/dist-packages (from tensorboard<2.11,>=2.10->tensorflow==2.10) (0.4.6)\n",
            "Requirement already satisfied: markdown>=2.6.8 in /usr/local/lib/python3.10/dist-packages (from tensorboard<2.11,>=2.10->tensorflow==2.10) (3.4.3)\n",
            "Requirement already satisfied: requests<3,>=2.21.0 in /usr/local/lib/python3.10/dist-packages (from tensorboard<2.11,>=2.10->tensorflow==2.10) (2.27.1)\n",
            "Requirement already satisfied: tensorboard-data-server<0.7.0,>=0.6.0 in /usr/local/lib/python3.10/dist-packages (from tensorboard<2.11,>=2.10->tensorflow==2.10) (0.6.1)\n",
            "Requirement already satisfied: tensorboard-plugin-wit>=1.6.0 in /usr/local/lib/python3.10/dist-packages (from tensorboard<2.11,>=2.10->tensorflow==2.10) (1.8.1)\n",
            "Requirement already satisfied: werkzeug>=1.0.1 in /usr/local/lib/python3.10/dist-packages (from tensorboard<2.11,>=2.10->tensorflow==2.10) (2.3.6)\n",
            "Requirement already satisfied: cachetools<6.0,>=2.0.0 in /usr/local/lib/python3.10/dist-packages (from google-auth<3,>=1.6.3->tensorboard<2.11,>=2.10->tensorflow==2.10) (5.3.1)\n",
            "Requirement already satisfied: pyasn1-modules>=0.2.1 in /usr/local/lib/python3.10/dist-packages (from google-auth<3,>=1.6.3->tensorboard<2.11,>=2.10->tensorflow==2.10) (0.3.0)\n",
            "Requirement already satisfied: rsa<5,>=3.1.4 in /usr/local/lib/python3.10/dist-packages (from google-auth<3,>=1.6.3->tensorboard<2.11,>=2.10->tensorflow==2.10) (4.9)\n",
            "Requirement already satisfied: requests-oauthlib>=0.7.0 in /usr/local/lib/python3.10/dist-packages (from google-auth-oauthlib<0.5,>=0.4.1->tensorboard<2.11,>=2.10->tensorflow==2.10) (1.3.1)\n",
            "Requirement already satisfied: urllib3<1.27,>=1.21.1 in /usr/local/lib/python3.10/dist-packages (from requests<3,>=2.21.0->tensorboard<2.11,>=2.10->tensorflow==2.10) (1.26.16)\n",
            "Requirement already satisfied: certifi>=2017.4.17 in /usr/local/lib/python3.10/dist-packages (from requests<3,>=2.21.0->tensorboard<2.11,>=2.10->tensorflow==2.10) (2023.5.7)\n",
            "Requirement already satisfied: charset-normalizer~=2.0.0 in /usr/local/lib/python3.10/dist-packages (from requests<3,>=2.21.0->tensorboard<2.11,>=2.10->tensorflow==2.10) (2.0.12)\n",
            "Requirement already satisfied: idna<4,>=2.5 in /usr/local/lib/python3.10/dist-packages (from requests<3,>=2.21.0->tensorboard<2.11,>=2.10->tensorflow==2.10) (3.4)\n",
            "Requirement already satisfied: MarkupSafe>=2.1.1 in /usr/local/lib/python3.10/dist-packages (from werkzeug>=1.0.1->tensorboard<2.11,>=2.10->tensorflow==2.10) (2.1.3)\n",
            "Requirement already satisfied: pyasn1<0.6.0,>=0.4.6 in /usr/local/lib/python3.10/dist-packages (from pyasn1-modules>=0.2.1->google-auth<3,>=1.6.3->tensorboard<2.11,>=2.10->tensorflow==2.10) (0.5.0)\n",
            "Requirement already satisfied: oauthlib>=3.0.0 in /usr/local/lib/python3.10/dist-packages (from requests-oauthlib>=0.7.0->google-auth-oauthlib<0.5,>=0.4.1->tensorboard<2.11,>=2.10->tensorflow==2.10) (3.2.2)\n"
          ]
        }
      ]
    },
    {
      "cell_type": "code",
      "source": [
        "## for data\n",
        "import json\n",
        "import pandas as pd\n",
        "import numpy as np\n",
        "from sklearn import metrics, manifold\n",
        "from tqdm import tqdm\n",
        "\n",
        "## for processing\n",
        "import re\n",
        "import nltk\n",
        "\n",
        "## for plotting\n",
        "import matplotlib.pyplot as plt\n",
        "import seaborn as sns\n",
        "\n",
        "## for w2v\n",
        "import gensim\n",
        "import gensim.downloader as gensim_api\n",
        "\n",
        "## for BERT\n",
        "import transformers\n",
        "import os"
      ],
      "metadata": {
        "id": "Zs_qDgp9OrE6"
      },
      "execution_count": 243,
      "outputs": []
    },
    {
      "cell_type": "code",
      "source": [
        "import tensorflow as tf\n",
        "print(tf.__version__)"
      ],
      "metadata": {
        "colab": {
          "base_uri": "https://localhost:8080/"
        },
        "id": "7qNCPeUwPWUP",
        "outputId": "5bbe9a2f-8766-407a-81ad-799303e850e1"
      },
      "execution_count": 244,
      "outputs": [
        {
          "output_type": "stream",
          "name": "stdout",
          "text": [
            "2.10.0\n"
          ]
        }
      ]
    },
    {
      "cell_type": "code",
      "source": [
        "os.environ['CUDA_VISIBLE_DEVICES'] = '0'\n",
        "print(tf.config.list_physical_devices('GPU'))\n",
        "print(tf.test.is_gpu_available())\n",
        "print(tf.test.is_built_with_cuda())"
      ],
      "metadata": {
        "colab": {
          "base_uri": "https://localhost:8080/"
        },
        "id": "epITgAomPdjj",
        "outputId": "f7781cfa-b7ce-4c91-c5f6-d44cb977a1f8"
      },
      "execution_count": 245,
      "outputs": [
        {
          "output_type": "stream",
          "name": "stdout",
          "text": [
            "[]\n",
            "False\n",
            "True\n"
          ]
        }
      ]
    },
    {
      "cell_type": "code",
      "source": [
        "root_path = 'usersdata.csv'"
      ],
      "metadata": {
        "id": "34axAAq8PtfK"
      },
      "execution_count": 246,
      "outputs": []
    },
    {
      "cell_type": "code",
      "source": [
        "df = pd.read_csv(root_path)\n",
        "df.head()"
      ],
      "metadata": {
        "colab": {
          "base_uri": "https://localhost:8080/",
          "height": 206
        },
        "id": "1lcFfKAoPh_8",
        "outputId": "3d81da5e-2e37-46a9-dd45-3e60086db1b9"
      },
      "execution_count": 247,
      "outputs": [
        {
          "output_type": "execute_result",
          "data": {
            "text/plain": [
              "       category                                        description\n",
              "0     architect  Dipingo e progetto luoghi Emiliana introversa ...\n",
              "1  manufacturer  En Chemifloor fabricamos resinas desde hace 30...\n",
              "2    applicator  Le damos vida a tus espacios. Pintamos espacio...\n",
              "3     architect  Quartz and marble decking solutions for archit...\n",
              "4    applicator  Pintura  Microcemento  Molduras Papel Pintado ..."
            ],
            "text/html": [
              "\n",
              "\n",
              "  <div id=\"df-10b46568-3946-4748-a571-015b19d1ac14\">\n",
              "    <div class=\"colab-df-container\">\n",
              "      <div>\n",
              "<style scoped>\n",
              "    .dataframe tbody tr th:only-of-type {\n",
              "        vertical-align: middle;\n",
              "    }\n",
              "\n",
              "    .dataframe tbody tr th {\n",
              "        vertical-align: top;\n",
              "    }\n",
              "\n",
              "    .dataframe thead th {\n",
              "        text-align: right;\n",
              "    }\n",
              "</style>\n",
              "<table border=\"1\" class=\"dataframe\">\n",
              "  <thead>\n",
              "    <tr style=\"text-align: right;\">\n",
              "      <th></th>\n",
              "      <th>category</th>\n",
              "      <th>description</th>\n",
              "    </tr>\n",
              "  </thead>\n",
              "  <tbody>\n",
              "    <tr>\n",
              "      <th>0</th>\n",
              "      <td>architect</td>\n",
              "      <td>Dipingo e progetto luoghi Emiliana introversa ...</td>\n",
              "    </tr>\n",
              "    <tr>\n",
              "      <th>1</th>\n",
              "      <td>manufacturer</td>\n",
              "      <td>En Chemifloor fabricamos resinas desde hace 30...</td>\n",
              "    </tr>\n",
              "    <tr>\n",
              "      <th>2</th>\n",
              "      <td>applicator</td>\n",
              "      <td>Le damos vida a tus espacios. Pintamos espacio...</td>\n",
              "    </tr>\n",
              "    <tr>\n",
              "      <th>3</th>\n",
              "      <td>architect</td>\n",
              "      <td>Quartz and marble decking solutions for archit...</td>\n",
              "    </tr>\n",
              "    <tr>\n",
              "      <th>4</th>\n",
              "      <td>applicator</td>\n",
              "      <td>Pintura  Microcemento  Molduras Papel Pintado ...</td>\n",
              "    </tr>\n",
              "  </tbody>\n",
              "</table>\n",
              "</div>\n",
              "      <button class=\"colab-df-convert\" onclick=\"convertToInteractive('df-10b46568-3946-4748-a571-015b19d1ac14')\"\n",
              "              title=\"Convert this dataframe to an interactive table.\"\n",
              "              style=\"display:none;\">\n",
              "\n",
              "  <svg xmlns=\"http://www.w3.org/2000/svg\" height=\"24px\"viewBox=\"0 0 24 24\"\n",
              "       width=\"24px\">\n",
              "    <path d=\"M0 0h24v24H0V0z\" fill=\"none\"/>\n",
              "    <path d=\"M18.56 5.44l.94 2.06.94-2.06 2.06-.94-2.06-.94-.94-2.06-.94 2.06-2.06.94zm-11 1L8.5 8.5l.94-2.06 2.06-.94-2.06-.94L8.5 2.5l-.94 2.06-2.06.94zm10 10l.94 2.06.94-2.06 2.06-.94-2.06-.94-.94-2.06-.94 2.06-2.06.94z\"/><path d=\"M17.41 7.96l-1.37-1.37c-.4-.4-.92-.59-1.43-.59-.52 0-1.04.2-1.43.59L10.3 9.45l-7.72 7.72c-.78.78-.78 2.05 0 2.83L4 21.41c.39.39.9.59 1.41.59.51 0 1.02-.2 1.41-.59l7.78-7.78 2.81-2.81c.8-.78.8-2.07 0-2.86zM5.41 20L4 18.59l7.72-7.72 1.47 1.35L5.41 20z\"/>\n",
              "  </svg>\n",
              "      </button>\n",
              "\n",
              "\n",
              "\n",
              "    <div id=\"df-821f4207-e0e0-49f3-b5d5-55e70b62385c\">\n",
              "      <button class=\"colab-df-quickchart\" onclick=\"quickchart('df-821f4207-e0e0-49f3-b5d5-55e70b62385c')\"\n",
              "              title=\"Suggest charts.\"\n",
              "              style=\"display:none;\">\n",
              "\n",
              "<svg xmlns=\"http://www.w3.org/2000/svg\" height=\"24px\"viewBox=\"0 0 24 24\"\n",
              "     width=\"24px\">\n",
              "    <g>\n",
              "        <path d=\"M19 3H5c-1.1 0-2 .9-2 2v14c0 1.1.9 2 2 2h14c1.1 0 2-.9 2-2V5c0-1.1-.9-2-2-2zM9 17H7v-7h2v7zm4 0h-2V7h2v10zm4 0h-2v-4h2v4z\"/>\n",
              "    </g>\n",
              "</svg>\n",
              "      </button>\n",
              "    </div>\n",
              "\n",
              "<style>\n",
              "  .colab-df-quickchart {\n",
              "    background-color: #E8F0FE;\n",
              "    border: none;\n",
              "    border-radius: 50%;\n",
              "    cursor: pointer;\n",
              "    display: none;\n",
              "    fill: #1967D2;\n",
              "    height: 32px;\n",
              "    padding: 0 0 0 0;\n",
              "    width: 32px;\n",
              "  }\n",
              "\n",
              "  .colab-df-quickchart:hover {\n",
              "    background-color: #E2EBFA;\n",
              "    box-shadow: 0px 1px 2px rgba(60, 64, 67, 0.3), 0px 1px 3px 1px rgba(60, 64, 67, 0.15);\n",
              "    fill: #174EA6;\n",
              "  }\n",
              "\n",
              "  [theme=dark] .colab-df-quickchart {\n",
              "    background-color: #3B4455;\n",
              "    fill: #D2E3FC;\n",
              "  }\n",
              "\n",
              "  [theme=dark] .colab-df-quickchart:hover {\n",
              "    background-color: #434B5C;\n",
              "    box-shadow: 0px 1px 3px 1px rgba(0, 0, 0, 0.15);\n",
              "    filter: drop-shadow(0px 1px 2px rgba(0, 0, 0, 0.3));\n",
              "    fill: #FFFFFF;\n",
              "  }\n",
              "</style>\n",
              "\n",
              "    <script>\n",
              "      async function quickchart(key) {\n",
              "        const containerElement = document.querySelector('#' + key);\n",
              "        const charts = await google.colab.kernel.invokeFunction(\n",
              "            'suggestCharts', [key], {});\n",
              "      }\n",
              "    </script>\n",
              "\n",
              "      <script>\n",
              "\n",
              "function displayQuickchartButton(domScope) {\n",
              "  let quickchartButtonEl =\n",
              "    domScope.querySelector('#df-821f4207-e0e0-49f3-b5d5-55e70b62385c button.colab-df-quickchart');\n",
              "  quickchartButtonEl.style.display =\n",
              "    google.colab.kernel.accessAllowed ? 'block' : 'none';\n",
              "}\n",
              "\n",
              "        displayQuickchartButton(document);\n",
              "      </script>\n",
              "      <style>\n",
              "    .colab-df-container {\n",
              "      display:flex;\n",
              "      flex-wrap:wrap;\n",
              "      gap: 12px;\n",
              "    }\n",
              "\n",
              "    .colab-df-convert {\n",
              "      background-color: #E8F0FE;\n",
              "      border: none;\n",
              "      border-radius: 50%;\n",
              "      cursor: pointer;\n",
              "      display: none;\n",
              "      fill: #1967D2;\n",
              "      height: 32px;\n",
              "      padding: 0 0 0 0;\n",
              "      width: 32px;\n",
              "    }\n",
              "\n",
              "    .colab-df-convert:hover {\n",
              "      background-color: #E2EBFA;\n",
              "      box-shadow: 0px 1px 2px rgba(60, 64, 67, 0.3), 0px 1px 3px 1px rgba(60, 64, 67, 0.15);\n",
              "      fill: #174EA6;\n",
              "    }\n",
              "\n",
              "    [theme=dark] .colab-df-convert {\n",
              "      background-color: #3B4455;\n",
              "      fill: #D2E3FC;\n",
              "    }\n",
              "\n",
              "    [theme=dark] .colab-df-convert:hover {\n",
              "      background-color: #434B5C;\n",
              "      box-shadow: 0px 1px 3px 1px rgba(0, 0, 0, 0.15);\n",
              "      filter: drop-shadow(0px 1px 2px rgba(0, 0, 0, 0.3));\n",
              "      fill: #FFFFFF;\n",
              "    }\n",
              "  </style>\n",
              "\n",
              "      <script>\n",
              "        const buttonEl =\n",
              "          document.querySelector('#df-10b46568-3946-4748-a571-015b19d1ac14 button.colab-df-convert');\n",
              "        buttonEl.style.display =\n",
              "          google.colab.kernel.accessAllowed ? 'block' : 'none';\n",
              "\n",
              "        async function convertToInteractive(key) {\n",
              "          const element = document.querySelector('#df-10b46568-3946-4748-a571-015b19d1ac14');\n",
              "          const dataTable =\n",
              "            await google.colab.kernel.invokeFunction('convertToInteractive',\n",
              "                                                     [key], {});\n",
              "          if (!dataTable) return;\n",
              "\n",
              "          const docLinkHtml = 'Like what you see? Visit the ' +\n",
              "            '<a target=\"_blank\" href=https://colab.research.google.com/notebooks/data_table.ipynb>data table notebook</a>'\n",
              "            + ' to learn more about interactive tables.';\n",
              "          element.innerHTML = '';\n",
              "          dataTable['output_type'] = 'display_data';\n",
              "          await google.colab.output.renderOutput(dataTable, element);\n",
              "          const docLink = document.createElement('div');\n",
              "          docLink.innerHTML = docLinkHtml;\n",
              "          element.appendChild(docLink);\n",
              "        }\n",
              "      </script>\n",
              "    </div>\n",
              "  </div>\n"
            ]
          },
          "metadata": {},
          "execution_count": 247
        }
      ]
    },
    {
      "cell_type": "code",
      "source": [
        "print(f'El conjunto de datos contiene un total de {len(df)} biografías.')"
      ],
      "metadata": {
        "colab": {
          "base_uri": "https://localhost:8080/"
        },
        "id": "EHIuT0TVP250",
        "outputId": "8cff10ee-38db-4bf7-ed63-980f72fac0d5"
      },
      "execution_count": 248,
      "outputs": [
        {
          "output_type": "stream",
          "name": "stdout",
          "text": [
            "El conjunto de datos contiene un total de 434 biografías.\n"
          ]
        }
      ]
    },
    {
      "cell_type": "code",
      "source": [
        "print(f'Hay un total de {len(set(df.category))} categorías en el conjunto de datos')\n",
        "print(set(df.category))"
      ],
      "metadata": {
        "colab": {
          "base_uri": "https://localhost:8080/"
        },
        "id": "JLnGGOvJQGD9",
        "outputId": "e9e48574-1324-4064-a54f-56abf3983178"
      },
      "execution_count": 249,
      "outputs": [
        {
          "output_type": "stream",
          "name": "stdout",
          "text": [
            "Hay un total de 5 categorías en el conjunto de datos\n",
            "{'applicator', 'architect', 'distributor', 'manufacturer', 'influencer'}\n"
          ]
        }
      ]
    },
    {
      "cell_type": "code",
      "source": [
        "## Filtrar por categorías\n",
        "df = df[ df[\"category\"].isin(['applicator'])]\n",
        "## print 5 random rows\n",
        "df.sample(5)"
      ],
      "metadata": {
        "colab": {
          "base_uri": "https://localhost:8080/",
          "height": 206
        },
        "id": "fXtKQzvWQT_h",
        "outputId": "67449f0d-c497-4452-e2d6-410d56e543fa"
      },
      "execution_count": 250,
      "outputs": [
        {
          "output_type": "execute_result",
          "data": {
            "text/plain": [
              "       category                                        description\n",
              "366  applicator  Microcimento #Revestimento e #Acabamento para ...\n",
              "192  applicator  Pool & Spa Micro  Bathrooms & Wet Areas Commer...\n",
              "165  applicator  Aplicación de microcemento  revocos de cal  au...\n",
              "4    applicator  Pintura  Microcemento  Molduras Papel Pintado ...\n",
              "372  applicator  Treballs de pintura i estucs |||| Microciment ..."
            ],
            "text/html": [
              "\n",
              "\n",
              "  <div id=\"df-6e92f2c2-064a-48fe-9081-4426ffcaaf0a\">\n",
              "    <div class=\"colab-df-container\">\n",
              "      <div>\n",
              "<style scoped>\n",
              "    .dataframe tbody tr th:only-of-type {\n",
              "        vertical-align: middle;\n",
              "    }\n",
              "\n",
              "    .dataframe tbody tr th {\n",
              "        vertical-align: top;\n",
              "    }\n",
              "\n",
              "    .dataframe thead th {\n",
              "        text-align: right;\n",
              "    }\n",
              "</style>\n",
              "<table border=\"1\" class=\"dataframe\">\n",
              "  <thead>\n",
              "    <tr style=\"text-align: right;\">\n",
              "      <th></th>\n",
              "      <th>category</th>\n",
              "      <th>description</th>\n",
              "    </tr>\n",
              "  </thead>\n",
              "  <tbody>\n",
              "    <tr>\n",
              "      <th>366</th>\n",
              "      <td>applicator</td>\n",
              "      <td>Microcimento #Revestimento e #Acabamento para ...</td>\n",
              "    </tr>\n",
              "    <tr>\n",
              "      <th>192</th>\n",
              "      <td>applicator</td>\n",
              "      <td>Pool &amp; Spa Micro  Bathrooms &amp; Wet Areas Commer...</td>\n",
              "    </tr>\n",
              "    <tr>\n",
              "      <th>165</th>\n",
              "      <td>applicator</td>\n",
              "      <td>Aplicación de microcemento  revocos de cal  au...</td>\n",
              "    </tr>\n",
              "    <tr>\n",
              "      <th>4</th>\n",
              "      <td>applicator</td>\n",
              "      <td>Pintura  Microcemento  Molduras Papel Pintado ...</td>\n",
              "    </tr>\n",
              "    <tr>\n",
              "      <th>372</th>\n",
              "      <td>applicator</td>\n",
              "      <td>Treballs de pintura i estucs |||| Microciment ...</td>\n",
              "    </tr>\n",
              "  </tbody>\n",
              "</table>\n",
              "</div>\n",
              "      <button class=\"colab-df-convert\" onclick=\"convertToInteractive('df-6e92f2c2-064a-48fe-9081-4426ffcaaf0a')\"\n",
              "              title=\"Convert this dataframe to an interactive table.\"\n",
              "              style=\"display:none;\">\n",
              "\n",
              "  <svg xmlns=\"http://www.w3.org/2000/svg\" height=\"24px\"viewBox=\"0 0 24 24\"\n",
              "       width=\"24px\">\n",
              "    <path d=\"M0 0h24v24H0V0z\" fill=\"none\"/>\n",
              "    <path d=\"M18.56 5.44l.94 2.06.94-2.06 2.06-.94-2.06-.94-.94-2.06-.94 2.06-2.06.94zm-11 1L8.5 8.5l.94-2.06 2.06-.94-2.06-.94L8.5 2.5l-.94 2.06-2.06.94zm10 10l.94 2.06.94-2.06 2.06-.94-2.06-.94-.94-2.06-.94 2.06-2.06.94z\"/><path d=\"M17.41 7.96l-1.37-1.37c-.4-.4-.92-.59-1.43-.59-.52 0-1.04.2-1.43.59L10.3 9.45l-7.72 7.72c-.78.78-.78 2.05 0 2.83L4 21.41c.39.39.9.59 1.41.59.51 0 1.02-.2 1.41-.59l7.78-7.78 2.81-2.81c.8-.78.8-2.07 0-2.86zM5.41 20L4 18.59l7.72-7.72 1.47 1.35L5.41 20z\"/>\n",
              "  </svg>\n",
              "      </button>\n",
              "\n",
              "\n",
              "\n",
              "    <div id=\"df-e8099b1c-f19d-453f-a6c0-f38a774317c6\">\n",
              "      <button class=\"colab-df-quickchart\" onclick=\"quickchart('df-e8099b1c-f19d-453f-a6c0-f38a774317c6')\"\n",
              "              title=\"Suggest charts.\"\n",
              "              style=\"display:none;\">\n",
              "\n",
              "<svg xmlns=\"http://www.w3.org/2000/svg\" height=\"24px\"viewBox=\"0 0 24 24\"\n",
              "     width=\"24px\">\n",
              "    <g>\n",
              "        <path d=\"M19 3H5c-1.1 0-2 .9-2 2v14c0 1.1.9 2 2 2h14c1.1 0 2-.9 2-2V5c0-1.1-.9-2-2-2zM9 17H7v-7h2v7zm4 0h-2V7h2v10zm4 0h-2v-4h2v4z\"/>\n",
              "    </g>\n",
              "</svg>\n",
              "      </button>\n",
              "    </div>\n",
              "\n",
              "<style>\n",
              "  .colab-df-quickchart {\n",
              "    background-color: #E8F0FE;\n",
              "    border: none;\n",
              "    border-radius: 50%;\n",
              "    cursor: pointer;\n",
              "    display: none;\n",
              "    fill: #1967D2;\n",
              "    height: 32px;\n",
              "    padding: 0 0 0 0;\n",
              "    width: 32px;\n",
              "  }\n",
              "\n",
              "  .colab-df-quickchart:hover {\n",
              "    background-color: #E2EBFA;\n",
              "    box-shadow: 0px 1px 2px rgba(60, 64, 67, 0.3), 0px 1px 3px 1px rgba(60, 64, 67, 0.15);\n",
              "    fill: #174EA6;\n",
              "  }\n",
              "\n",
              "  [theme=dark] .colab-df-quickchart {\n",
              "    background-color: #3B4455;\n",
              "    fill: #D2E3FC;\n",
              "  }\n",
              "\n",
              "  [theme=dark] .colab-df-quickchart:hover {\n",
              "    background-color: #434B5C;\n",
              "    box-shadow: 0px 1px 3px 1px rgba(0, 0, 0, 0.15);\n",
              "    filter: drop-shadow(0px 1px 2px rgba(0, 0, 0, 0.3));\n",
              "    fill: #FFFFFF;\n",
              "  }\n",
              "</style>\n",
              "\n",
              "    <script>\n",
              "      async function quickchart(key) {\n",
              "        const containerElement = document.querySelector('#' + key);\n",
              "        const charts = await google.colab.kernel.invokeFunction(\n",
              "            'suggestCharts', [key], {});\n",
              "      }\n",
              "    </script>\n",
              "\n",
              "      <script>\n",
              "\n",
              "function displayQuickchartButton(domScope) {\n",
              "  let quickchartButtonEl =\n",
              "    domScope.querySelector('#df-e8099b1c-f19d-453f-a6c0-f38a774317c6 button.colab-df-quickchart');\n",
              "  quickchartButtonEl.style.display =\n",
              "    google.colab.kernel.accessAllowed ? 'block' : 'none';\n",
              "}\n",
              "\n",
              "        displayQuickchartButton(document);\n",
              "      </script>\n",
              "      <style>\n",
              "    .colab-df-container {\n",
              "      display:flex;\n",
              "      flex-wrap:wrap;\n",
              "      gap: 12px;\n",
              "    }\n",
              "\n",
              "    .colab-df-convert {\n",
              "      background-color: #E8F0FE;\n",
              "      border: none;\n",
              "      border-radius: 50%;\n",
              "      cursor: pointer;\n",
              "      display: none;\n",
              "      fill: #1967D2;\n",
              "      height: 32px;\n",
              "      padding: 0 0 0 0;\n",
              "      width: 32px;\n",
              "    }\n",
              "\n",
              "    .colab-df-convert:hover {\n",
              "      background-color: #E2EBFA;\n",
              "      box-shadow: 0px 1px 2px rgba(60, 64, 67, 0.3), 0px 1px 3px 1px rgba(60, 64, 67, 0.15);\n",
              "      fill: #174EA6;\n",
              "    }\n",
              "\n",
              "    [theme=dark] .colab-df-convert {\n",
              "      background-color: #3B4455;\n",
              "      fill: #D2E3FC;\n",
              "    }\n",
              "\n",
              "    [theme=dark] .colab-df-convert:hover {\n",
              "      background-color: #434B5C;\n",
              "      box-shadow: 0px 1px 3px 1px rgba(0, 0, 0, 0.15);\n",
              "      filter: drop-shadow(0px 1px 2px rgba(0, 0, 0, 0.3));\n",
              "      fill: #FFFFFF;\n",
              "    }\n",
              "  </style>\n",
              "\n",
              "      <script>\n",
              "        const buttonEl =\n",
              "          document.querySelector('#df-6e92f2c2-064a-48fe-9081-4426ffcaaf0a button.colab-df-convert');\n",
              "        buttonEl.style.display =\n",
              "          google.colab.kernel.accessAllowed ? 'block' : 'none';\n",
              "\n",
              "        async function convertToInteractive(key) {\n",
              "          const element = document.querySelector('#df-6e92f2c2-064a-48fe-9081-4426ffcaaf0a');\n",
              "          const dataTable =\n",
              "            await google.colab.kernel.invokeFunction('convertToInteractive',\n",
              "                                                     [key], {});\n",
              "          if (!dataTable) return;\n",
              "\n",
              "          const docLinkHtml = 'Like what you see? Visit the ' +\n",
              "            '<a target=\"_blank\" href=https://colab.research.google.com/notebooks/data_table.ipynb>data table notebook</a>'\n",
              "            + ' to learn more about interactive tables.';\n",
              "          element.innerHTML = '';\n",
              "          dataTable['output_type'] = 'display_data';\n",
              "          await google.colab.output.renderOutput(dataTable, element);\n",
              "          const docLink = document.createElement('div');\n",
              "          docLink.innerHTML = docLinkHtml;\n",
              "          element.appendChild(docLink);\n",
              "        }\n",
              "      </script>\n",
              "    </div>\n",
              "  </div>\n"
            ]
          },
          "metadata": {},
          "execution_count": 250
        }
      ]
    },
    {
      "cell_type": "code",
      "source": [
        "print(f'El conjunto de datos de muestra contiene {len(df)} biografías relacionadas con las categorías seleccionadas. {set(df.category)}')"
      ],
      "metadata": {
        "colab": {
          "base_uri": "https://localhost:8080/"
        },
        "id": "qqyVXcVkRMdk",
        "outputId": "fc008560-8578-4bdc-c201-157813e05edc"
      },
      "execution_count": 251,
      "outputs": [
        {
          "output_type": "stream",
          "name": "stdout",
          "text": [
            "El conjunto de datos de muestra contiene 68 biografías relacionadas con las categorías seleccionadas. {'applicator'}\n"
          ]
        }
      ]
    },
    {
      "cell_type": "markdown",
      "source": [
        "# Unsupervised classification principles and approach"
      ],
      "metadata": {
        "id": "oNtnDaVgVDsZ"
      }
    },
    {
      "cell_type": "markdown",
      "source": [
        "*   Clean data and embed it into the vector space.\n",
        "*   Create a topic cluster for each category and embed it into the vector space.\n",
        "*   Calculate similarities between every text vector and the topic clusters, then assign it to the closest cluster.\n",
        "\n",
        "\n"
      ],
      "metadata": {
        "id": "6DzU3F9qVIuW"
      }
    },
    {
      "cell_type": "markdown",
      "source": [
        "# Text preprocessing"
      ],
      "metadata": {
        "id": "lCyiBRUuUkEV"
      }
    },
    {
      "cell_type": "markdown",
      "source": [
        "*   Remove punctuation, convert to lower case.\n",
        "*   Tokenize text to words.\n",
        "*   Remove stopwords (nltk).\n",
        "*   Stemming and lemmatisation."
      ],
      "metadata": {
        "id": "jVyS65sAUo3e"
      }
    },
    {
      "cell_type": "code",
      "source": [
        "def preprocess_text(text, flg_stemm=False, flg_lemm=True, lst_stopwords=None):\n",
        "    '''\n",
        "    Preprocess a string.\n",
        "    :parameter\n",
        "        :param text: string - name of column containing text\n",
        "        :param lst_stopwords: list - list of stopwords to remove\n",
        "        :param flg_stemm: bool - whether stemming is to be applied\n",
        "        :param flg_lemm: bool - whether lemmitisation is to be applied\n",
        "    :return\n",
        "        cleaned text\n",
        "    '''\n",
        "\n",
        "    ## clean (convert to lowercase and remove punctuations and characters and then strip)\n",
        "    text = re.sub(r'[^\\w\\s]', '', str(text).lower().strip())\n",
        "\n",
        "    ## Tokenize (convert from string to list)\n",
        "    lst_text = text.split()\n",
        "\n",
        "    ## remove Stopwords\n",
        "    if lst_stopwords is not None:\n",
        "        lst_text = [word for word in lst_text if word not in lst_stopwords]\n",
        "\n",
        "    ## Stemming (remove -ing, -ly, ...)\n",
        "    if flg_stemm == True:\n",
        "        ps = nltk.stem.porter.PorterStemmer()\n",
        "        lst_text = [ps.stem(word) for word in lst_text]\n",
        "\n",
        "    ## Lemmatisation (convert the word into root word)\n",
        "    if flg_lemm == True:\n",
        "        lem = nltk.stem.wordnet.WordNetLemmatizer()\n",
        "        lst_text = [lem.lemmatize(word) for word in lst_text]\n",
        "\n",
        "    ## back to string from list\n",
        "    text = \" \".join(lst_text)\n",
        "    return text"
      ],
      "metadata": {
        "id": "nzWwcQVZSEF_"
      },
      "execution_count": 252,
      "outputs": []
    },
    {
      "cell_type": "code",
      "source": [
        "import nltk\n",
        "nltk.download('all')"
      ],
      "metadata": {
        "colab": {
          "base_uri": "https://localhost:8080/"
        },
        "id": "ASaObxuzSOlb",
        "outputId": "7b5ff5d0-2e56-4e56-c539-83aaffe6cc97"
      },
      "execution_count": 253,
      "outputs": [
        {
          "output_type": "stream",
          "name": "stderr",
          "text": [
            "[nltk_data] Downloading collection 'all'\n",
            "[nltk_data]    | \n",
            "[nltk_data]    | Downloading package abc to /root/nltk_data...\n",
            "[nltk_data]    |   Package abc is already up-to-date!\n",
            "[nltk_data]    | Downloading package alpino to /root/nltk_data...\n",
            "[nltk_data]    |   Package alpino is already up-to-date!\n",
            "[nltk_data]    | Downloading package averaged_perceptron_tagger to\n",
            "[nltk_data]    |     /root/nltk_data...\n",
            "[nltk_data]    |   Package averaged_perceptron_tagger is already up-\n",
            "[nltk_data]    |       to-date!\n",
            "[nltk_data]    | Downloading package averaged_perceptron_tagger_ru to\n",
            "[nltk_data]    |     /root/nltk_data...\n",
            "[nltk_data]    |   Package averaged_perceptron_tagger_ru is already\n",
            "[nltk_data]    |       up-to-date!\n",
            "[nltk_data]    | Downloading package basque_grammars to\n",
            "[nltk_data]    |     /root/nltk_data...\n",
            "[nltk_data]    |   Package basque_grammars is already up-to-date!\n",
            "[nltk_data]    | Downloading package bcp47 to /root/nltk_data...\n",
            "[nltk_data]    |   Package bcp47 is already up-to-date!\n",
            "[nltk_data]    | Downloading package biocreative_ppi to\n",
            "[nltk_data]    |     /root/nltk_data...\n",
            "[nltk_data]    |   Package biocreative_ppi is already up-to-date!\n",
            "[nltk_data]    | Downloading package bllip_wsj_no_aux to\n",
            "[nltk_data]    |     /root/nltk_data...\n",
            "[nltk_data]    |   Package bllip_wsj_no_aux is already up-to-date!\n",
            "[nltk_data]    | Downloading package book_grammars to\n",
            "[nltk_data]    |     /root/nltk_data...\n",
            "[nltk_data]    |   Package book_grammars is already up-to-date!\n",
            "[nltk_data]    | Downloading package brown to /root/nltk_data...\n",
            "[nltk_data]    |   Package brown is already up-to-date!\n",
            "[nltk_data]    | Downloading package brown_tei to /root/nltk_data...\n",
            "[nltk_data]    |   Package brown_tei is already up-to-date!\n",
            "[nltk_data]    | Downloading package cess_cat to /root/nltk_data...\n",
            "[nltk_data]    |   Package cess_cat is already up-to-date!\n",
            "[nltk_data]    | Downloading package cess_esp to /root/nltk_data...\n",
            "[nltk_data]    |   Package cess_esp is already up-to-date!\n",
            "[nltk_data]    | Downloading package chat80 to /root/nltk_data...\n",
            "[nltk_data]    |   Package chat80 is already up-to-date!\n",
            "[nltk_data]    | Downloading package city_database to\n",
            "[nltk_data]    |     /root/nltk_data...\n",
            "[nltk_data]    |   Package city_database is already up-to-date!\n",
            "[nltk_data]    | Downloading package cmudict to /root/nltk_data...\n",
            "[nltk_data]    |   Package cmudict is already up-to-date!\n",
            "[nltk_data]    | Downloading package comparative_sentences to\n",
            "[nltk_data]    |     /root/nltk_data...\n",
            "[nltk_data]    |   Package comparative_sentences is already up-to-\n",
            "[nltk_data]    |       date!\n",
            "[nltk_data]    | Downloading package comtrans to /root/nltk_data...\n",
            "[nltk_data]    |   Package comtrans is already up-to-date!\n",
            "[nltk_data]    | Downloading package conll2000 to /root/nltk_data...\n",
            "[nltk_data]    |   Package conll2000 is already up-to-date!\n",
            "[nltk_data]    | Downloading package conll2002 to /root/nltk_data...\n",
            "[nltk_data]    |   Package conll2002 is already up-to-date!\n",
            "[nltk_data]    | Downloading package conll2007 to /root/nltk_data...\n",
            "[nltk_data]    |   Package conll2007 is already up-to-date!\n",
            "[nltk_data]    | Downloading package crubadan to /root/nltk_data...\n",
            "[nltk_data]    |   Package crubadan is already up-to-date!\n",
            "[nltk_data]    | Downloading package dependency_treebank to\n",
            "[nltk_data]    |     /root/nltk_data...\n",
            "[nltk_data]    |   Package dependency_treebank is already up-to-date!\n",
            "[nltk_data]    | Downloading package dolch to /root/nltk_data...\n",
            "[nltk_data]    |   Package dolch is already up-to-date!\n",
            "[nltk_data]    | Downloading package europarl_raw to\n",
            "[nltk_data]    |     /root/nltk_data...\n",
            "[nltk_data]    |   Package europarl_raw is already up-to-date!\n",
            "[nltk_data]    | Downloading package extended_omw to\n",
            "[nltk_data]    |     /root/nltk_data...\n",
            "[nltk_data]    |   Package extended_omw is already up-to-date!\n",
            "[nltk_data]    | Downloading package floresta to /root/nltk_data...\n",
            "[nltk_data]    |   Package floresta is already up-to-date!\n",
            "[nltk_data]    | Downloading package framenet_v15 to\n",
            "[nltk_data]    |     /root/nltk_data...\n",
            "[nltk_data]    |   Package framenet_v15 is already up-to-date!\n",
            "[nltk_data]    | Downloading package framenet_v17 to\n",
            "[nltk_data]    |     /root/nltk_data...\n",
            "[nltk_data]    |   Package framenet_v17 is already up-to-date!\n",
            "[nltk_data]    | Downloading package gazetteers to /root/nltk_data...\n",
            "[nltk_data]    |   Package gazetteers is already up-to-date!\n",
            "[nltk_data]    | Downloading package genesis to /root/nltk_data...\n",
            "[nltk_data]    |   Package genesis is already up-to-date!\n",
            "[nltk_data]    | Downloading package gutenberg to /root/nltk_data...\n",
            "[nltk_data]    |   Package gutenberg is already up-to-date!\n",
            "[nltk_data]    | Downloading package ieer to /root/nltk_data...\n",
            "[nltk_data]    |   Package ieer is already up-to-date!\n",
            "[nltk_data]    | Downloading package inaugural to /root/nltk_data...\n",
            "[nltk_data]    |   Package inaugural is already up-to-date!\n",
            "[nltk_data]    | Downloading package indian to /root/nltk_data...\n",
            "[nltk_data]    |   Package indian is already up-to-date!\n",
            "[nltk_data]    | Downloading package jeita to /root/nltk_data...\n",
            "[nltk_data]    |   Package jeita is already up-to-date!\n",
            "[nltk_data]    | Downloading package kimmo to /root/nltk_data...\n",
            "[nltk_data]    |   Package kimmo is already up-to-date!\n",
            "[nltk_data]    | Downloading package knbc to /root/nltk_data...\n",
            "[nltk_data]    |   Package knbc is already up-to-date!\n",
            "[nltk_data]    | Downloading package large_grammars to\n",
            "[nltk_data]    |     /root/nltk_data...\n",
            "[nltk_data]    |   Package large_grammars is already up-to-date!\n",
            "[nltk_data]    | Downloading package lin_thesaurus to\n",
            "[nltk_data]    |     /root/nltk_data...\n",
            "[nltk_data]    |   Package lin_thesaurus is already up-to-date!\n",
            "[nltk_data]    | Downloading package mac_morpho to /root/nltk_data...\n",
            "[nltk_data]    |   Package mac_morpho is already up-to-date!\n",
            "[nltk_data]    | Downloading package machado to /root/nltk_data...\n",
            "[nltk_data]    |   Package machado is already up-to-date!\n",
            "[nltk_data]    | Downloading package masc_tagged to /root/nltk_data...\n",
            "[nltk_data]    |   Package masc_tagged is already up-to-date!\n",
            "[nltk_data]    | Downloading package maxent_ne_chunker to\n",
            "[nltk_data]    |     /root/nltk_data...\n",
            "[nltk_data]    |   Package maxent_ne_chunker is already up-to-date!\n",
            "[nltk_data]    | Downloading package maxent_treebank_pos_tagger to\n",
            "[nltk_data]    |     /root/nltk_data...\n",
            "[nltk_data]    |   Package maxent_treebank_pos_tagger is already up-\n",
            "[nltk_data]    |       to-date!\n",
            "[nltk_data]    | Downloading package moses_sample to\n",
            "[nltk_data]    |     /root/nltk_data...\n",
            "[nltk_data]    |   Package moses_sample is already up-to-date!\n",
            "[nltk_data]    | Downloading package movie_reviews to\n",
            "[nltk_data]    |     /root/nltk_data...\n",
            "[nltk_data]    |   Package movie_reviews is already up-to-date!\n",
            "[nltk_data]    | Downloading package mte_teip5 to /root/nltk_data...\n",
            "[nltk_data]    |   Package mte_teip5 is already up-to-date!\n",
            "[nltk_data]    | Downloading package mwa_ppdb to /root/nltk_data...\n",
            "[nltk_data]    |   Package mwa_ppdb is already up-to-date!\n",
            "[nltk_data]    | Downloading package names to /root/nltk_data...\n",
            "[nltk_data]    |   Package names is already up-to-date!\n",
            "[nltk_data]    | Downloading package nombank.1.0 to /root/nltk_data...\n",
            "[nltk_data]    |   Package nombank.1.0 is already up-to-date!\n",
            "[nltk_data]    | Downloading package nonbreaking_prefixes to\n",
            "[nltk_data]    |     /root/nltk_data...\n",
            "[nltk_data]    |   Package nonbreaking_prefixes is already up-to-date!\n",
            "[nltk_data]    | Downloading package nps_chat to /root/nltk_data...\n",
            "[nltk_data]    |   Package nps_chat is already up-to-date!\n",
            "[nltk_data]    | Downloading package omw to /root/nltk_data...\n",
            "[nltk_data]    |   Package omw is already up-to-date!\n",
            "[nltk_data]    | Downloading package omw-1.4 to /root/nltk_data...\n",
            "[nltk_data]    |   Package omw-1.4 is already up-to-date!\n",
            "[nltk_data]    | Downloading package opinion_lexicon to\n",
            "[nltk_data]    |     /root/nltk_data...\n",
            "[nltk_data]    |   Package opinion_lexicon is already up-to-date!\n",
            "[nltk_data]    | Downloading package panlex_swadesh to\n",
            "[nltk_data]    |     /root/nltk_data...\n",
            "[nltk_data]    |   Package panlex_swadesh is already up-to-date!\n",
            "[nltk_data]    | Downloading package paradigms to /root/nltk_data...\n",
            "[nltk_data]    |   Package paradigms is already up-to-date!\n",
            "[nltk_data]    | Downloading package pe08 to /root/nltk_data...\n",
            "[nltk_data]    |   Package pe08 is already up-to-date!\n",
            "[nltk_data]    | Downloading package perluniprops to\n",
            "[nltk_data]    |     /root/nltk_data...\n",
            "[nltk_data]    |   Package perluniprops is already up-to-date!\n",
            "[nltk_data]    | Downloading package pil to /root/nltk_data...\n",
            "[nltk_data]    |   Package pil is already up-to-date!\n",
            "[nltk_data]    | Downloading package pl196x to /root/nltk_data...\n",
            "[nltk_data]    |   Package pl196x is already up-to-date!\n",
            "[nltk_data]    | Downloading package porter_test to /root/nltk_data...\n",
            "[nltk_data]    |   Package porter_test is already up-to-date!\n",
            "[nltk_data]    | Downloading package ppattach to /root/nltk_data...\n",
            "[nltk_data]    |   Package ppattach is already up-to-date!\n",
            "[nltk_data]    | Downloading package problem_reports to\n",
            "[nltk_data]    |     /root/nltk_data...\n",
            "[nltk_data]    |   Package problem_reports is already up-to-date!\n",
            "[nltk_data]    | Downloading package product_reviews_1 to\n",
            "[nltk_data]    |     /root/nltk_data...\n",
            "[nltk_data]    |   Package product_reviews_1 is already up-to-date!\n",
            "[nltk_data]    | Downloading package product_reviews_2 to\n",
            "[nltk_data]    |     /root/nltk_data...\n",
            "[nltk_data]    |   Package product_reviews_2 is already up-to-date!\n",
            "[nltk_data]    | Downloading package propbank to /root/nltk_data...\n",
            "[nltk_data]    |   Package propbank is already up-to-date!\n",
            "[nltk_data]    | Downloading package pros_cons to /root/nltk_data...\n",
            "[nltk_data]    |   Package pros_cons is already up-to-date!\n",
            "[nltk_data]    | Downloading package ptb to /root/nltk_data...\n",
            "[nltk_data]    |   Package ptb is already up-to-date!\n",
            "[nltk_data]    | Downloading package punkt to /root/nltk_data...\n",
            "[nltk_data]    |   Package punkt is already up-to-date!\n",
            "[nltk_data]    | Downloading package qc to /root/nltk_data...\n",
            "[nltk_data]    |   Package qc is already up-to-date!\n",
            "[nltk_data]    | Downloading package reuters to /root/nltk_data...\n",
            "[nltk_data]    |   Package reuters is already up-to-date!\n",
            "[nltk_data]    | Downloading package rslp to /root/nltk_data...\n",
            "[nltk_data]    |   Package rslp is already up-to-date!\n",
            "[nltk_data]    | Downloading package rte to /root/nltk_data...\n",
            "[nltk_data]    |   Package rte is already up-to-date!\n",
            "[nltk_data]    | Downloading package sample_grammars to\n",
            "[nltk_data]    |     /root/nltk_data...\n",
            "[nltk_data]    |   Package sample_grammars is already up-to-date!\n",
            "[nltk_data]    | Downloading package semcor to /root/nltk_data...\n",
            "[nltk_data]    |   Package semcor is already up-to-date!\n",
            "[nltk_data]    | Downloading package senseval to /root/nltk_data...\n",
            "[nltk_data]    |   Package senseval is already up-to-date!\n",
            "[nltk_data]    | Downloading package sentence_polarity to\n",
            "[nltk_data]    |     /root/nltk_data...\n",
            "[nltk_data]    |   Package sentence_polarity is already up-to-date!\n",
            "[nltk_data]    | Downloading package sentiwordnet to\n",
            "[nltk_data]    |     /root/nltk_data...\n",
            "[nltk_data]    |   Package sentiwordnet is already up-to-date!\n",
            "[nltk_data]    | Downloading package shakespeare to /root/nltk_data...\n",
            "[nltk_data]    |   Package shakespeare is already up-to-date!\n",
            "[nltk_data]    | Downloading package sinica_treebank to\n",
            "[nltk_data]    |     /root/nltk_data...\n",
            "[nltk_data]    |   Package sinica_treebank is already up-to-date!\n",
            "[nltk_data]    | Downloading package smultron to /root/nltk_data...\n",
            "[nltk_data]    |   Package smultron is already up-to-date!\n",
            "[nltk_data]    | Downloading package snowball_data to\n",
            "[nltk_data]    |     /root/nltk_data...\n",
            "[nltk_data]    |   Package snowball_data is already up-to-date!\n",
            "[nltk_data]    | Downloading package spanish_grammars to\n",
            "[nltk_data]    |     /root/nltk_data...\n",
            "[nltk_data]    |   Package spanish_grammars is already up-to-date!\n",
            "[nltk_data]    | Downloading package state_union to /root/nltk_data...\n",
            "[nltk_data]    |   Package state_union is already up-to-date!\n",
            "[nltk_data]    | Downloading package stopwords to /root/nltk_data...\n",
            "[nltk_data]    |   Package stopwords is already up-to-date!\n",
            "[nltk_data]    | Downloading package subjectivity to\n",
            "[nltk_data]    |     /root/nltk_data...\n",
            "[nltk_data]    |   Package subjectivity is already up-to-date!\n",
            "[nltk_data]    | Downloading package swadesh to /root/nltk_data...\n",
            "[nltk_data]    |   Package swadesh is already up-to-date!\n",
            "[nltk_data]    | Downloading package switchboard to /root/nltk_data...\n",
            "[nltk_data]    |   Package switchboard is already up-to-date!\n",
            "[nltk_data]    | Downloading package tagsets to /root/nltk_data...\n",
            "[nltk_data]    |   Package tagsets is already up-to-date!\n",
            "[nltk_data]    | Downloading package timit to /root/nltk_data...\n",
            "[nltk_data]    |   Package timit is already up-to-date!\n",
            "[nltk_data]    | Downloading package toolbox to /root/nltk_data...\n",
            "[nltk_data]    |   Package toolbox is already up-to-date!\n",
            "[nltk_data]    | Downloading package treebank to /root/nltk_data...\n",
            "[nltk_data]    |   Package treebank is already up-to-date!\n",
            "[nltk_data]    | Downloading package twitter_samples to\n",
            "[nltk_data]    |     /root/nltk_data...\n",
            "[nltk_data]    |   Package twitter_samples is already up-to-date!\n",
            "[nltk_data]    | Downloading package udhr to /root/nltk_data...\n",
            "[nltk_data]    |   Package udhr is already up-to-date!\n",
            "[nltk_data]    | Downloading package udhr2 to /root/nltk_data...\n",
            "[nltk_data]    |   Package udhr2 is already up-to-date!\n",
            "[nltk_data]    | Downloading package unicode_samples to\n",
            "[nltk_data]    |     /root/nltk_data...\n",
            "[nltk_data]    |   Package unicode_samples is already up-to-date!\n",
            "[nltk_data]    | Downloading package universal_tagset to\n",
            "[nltk_data]    |     /root/nltk_data...\n",
            "[nltk_data]    |   Package universal_tagset is already up-to-date!\n",
            "[nltk_data]    | Downloading package universal_treebanks_v20 to\n",
            "[nltk_data]    |     /root/nltk_data...\n",
            "[nltk_data]    |   Package universal_treebanks_v20 is already up-to-\n",
            "[nltk_data]    |       date!\n",
            "[nltk_data]    | Downloading package vader_lexicon to\n",
            "[nltk_data]    |     /root/nltk_data...\n",
            "[nltk_data]    |   Package vader_lexicon is already up-to-date!\n",
            "[nltk_data]    | Downloading package verbnet to /root/nltk_data...\n",
            "[nltk_data]    |   Package verbnet is already up-to-date!\n",
            "[nltk_data]    | Downloading package verbnet3 to /root/nltk_data...\n",
            "[nltk_data]    |   Package verbnet3 is already up-to-date!\n",
            "[nltk_data]    | Downloading package webtext to /root/nltk_data...\n",
            "[nltk_data]    |   Package webtext is already up-to-date!\n",
            "[nltk_data]    | Downloading package wmt15_eval to /root/nltk_data...\n",
            "[nltk_data]    |   Package wmt15_eval is already up-to-date!\n",
            "[nltk_data]    | Downloading package word2vec_sample to\n",
            "[nltk_data]    |     /root/nltk_data...\n",
            "[nltk_data]    |   Package word2vec_sample is already up-to-date!\n",
            "[nltk_data]    | Downloading package wordnet to /root/nltk_data...\n",
            "[nltk_data]    |   Package wordnet is already up-to-date!\n",
            "[nltk_data]    | Downloading package wordnet2021 to /root/nltk_data...\n",
            "[nltk_data]    |   Package wordnet2021 is already up-to-date!\n",
            "[nltk_data]    | Downloading package wordnet2022 to /root/nltk_data...\n",
            "[nltk_data]    |   Package wordnet2022 is already up-to-date!\n",
            "[nltk_data]    | Downloading package wordnet31 to /root/nltk_data...\n",
            "[nltk_data]    |   Package wordnet31 is already up-to-date!\n",
            "[nltk_data]    | Downloading package wordnet_ic to /root/nltk_data...\n",
            "[nltk_data]    |   Package wordnet_ic is already up-to-date!\n",
            "[nltk_data]    | Downloading package words to /root/nltk_data...\n",
            "[nltk_data]    |   Package words is already up-to-date!\n",
            "[nltk_data]    | Downloading package ycoe to /root/nltk_data...\n",
            "[nltk_data]    |   Package ycoe is already up-to-date!\n",
            "[nltk_data]    | \n",
            "[nltk_data]  Done downloading collection all\n"
          ]
        },
        {
          "output_type": "execute_result",
          "data": {
            "text/plain": [
              "True"
            ]
          },
          "metadata": {},
          "execution_count": 253
        }
      ]
    },
    {
      "cell_type": "code",
      "source": [
        "lst_stopwords = nltk.corpus.stopwords.words(\"english\")\n",
        "lst_stopwords"
      ],
      "metadata": {
        "colab": {
          "base_uri": "https://localhost:8080/"
        },
        "id": "EL4baEKaSHIC",
        "outputId": "ded07dad-e7ed-41a7-8fbf-23cc48c47008"
      },
      "execution_count": 254,
      "outputs": [
        {
          "output_type": "execute_result",
          "data": {
            "text/plain": [
              "['i',\n",
              " 'me',\n",
              " 'my',\n",
              " 'myself',\n",
              " 'we',\n",
              " 'our',\n",
              " 'ours',\n",
              " 'ourselves',\n",
              " 'you',\n",
              " \"you're\",\n",
              " \"you've\",\n",
              " \"you'll\",\n",
              " \"you'd\",\n",
              " 'your',\n",
              " 'yours',\n",
              " 'yourself',\n",
              " 'yourselves',\n",
              " 'he',\n",
              " 'him',\n",
              " 'his',\n",
              " 'himself',\n",
              " 'she',\n",
              " \"she's\",\n",
              " 'her',\n",
              " 'hers',\n",
              " 'herself',\n",
              " 'it',\n",
              " \"it's\",\n",
              " 'its',\n",
              " 'itself',\n",
              " 'they',\n",
              " 'them',\n",
              " 'their',\n",
              " 'theirs',\n",
              " 'themselves',\n",
              " 'what',\n",
              " 'which',\n",
              " 'who',\n",
              " 'whom',\n",
              " 'this',\n",
              " 'that',\n",
              " \"that'll\",\n",
              " 'these',\n",
              " 'those',\n",
              " 'am',\n",
              " 'is',\n",
              " 'are',\n",
              " 'was',\n",
              " 'were',\n",
              " 'be',\n",
              " 'been',\n",
              " 'being',\n",
              " 'have',\n",
              " 'has',\n",
              " 'had',\n",
              " 'having',\n",
              " 'do',\n",
              " 'does',\n",
              " 'did',\n",
              " 'doing',\n",
              " 'a',\n",
              " 'an',\n",
              " 'the',\n",
              " 'and',\n",
              " 'but',\n",
              " 'if',\n",
              " 'or',\n",
              " 'because',\n",
              " 'as',\n",
              " 'until',\n",
              " 'while',\n",
              " 'of',\n",
              " 'at',\n",
              " 'by',\n",
              " 'for',\n",
              " 'with',\n",
              " 'about',\n",
              " 'against',\n",
              " 'between',\n",
              " 'into',\n",
              " 'through',\n",
              " 'during',\n",
              " 'before',\n",
              " 'after',\n",
              " 'above',\n",
              " 'below',\n",
              " 'to',\n",
              " 'from',\n",
              " 'up',\n",
              " 'down',\n",
              " 'in',\n",
              " 'out',\n",
              " 'on',\n",
              " 'off',\n",
              " 'over',\n",
              " 'under',\n",
              " 'again',\n",
              " 'further',\n",
              " 'then',\n",
              " 'once',\n",
              " 'here',\n",
              " 'there',\n",
              " 'when',\n",
              " 'where',\n",
              " 'why',\n",
              " 'how',\n",
              " 'all',\n",
              " 'any',\n",
              " 'both',\n",
              " 'each',\n",
              " 'few',\n",
              " 'more',\n",
              " 'most',\n",
              " 'other',\n",
              " 'some',\n",
              " 'such',\n",
              " 'no',\n",
              " 'nor',\n",
              " 'not',\n",
              " 'only',\n",
              " 'own',\n",
              " 'same',\n",
              " 'so',\n",
              " 'than',\n",
              " 'too',\n",
              " 'very',\n",
              " 's',\n",
              " 't',\n",
              " 'can',\n",
              " 'will',\n",
              " 'just',\n",
              " 'don',\n",
              " \"don't\",\n",
              " 'should',\n",
              " \"should've\",\n",
              " 'now',\n",
              " 'd',\n",
              " 'll',\n",
              " 'm',\n",
              " 'o',\n",
              " 're',\n",
              " 've',\n",
              " 'y',\n",
              " 'ain',\n",
              " 'aren',\n",
              " \"aren't\",\n",
              " 'couldn',\n",
              " \"couldn't\",\n",
              " 'didn',\n",
              " \"didn't\",\n",
              " 'doesn',\n",
              " \"doesn't\",\n",
              " 'hadn',\n",
              " \"hadn't\",\n",
              " 'hasn',\n",
              " \"hasn't\",\n",
              " 'haven',\n",
              " \"haven't\",\n",
              " 'isn',\n",
              " \"isn't\",\n",
              " 'ma',\n",
              " 'mightn',\n",
              " \"mightn't\",\n",
              " 'mustn',\n",
              " \"mustn't\",\n",
              " 'needn',\n",
              " \"needn't\",\n",
              " 'shan',\n",
              " \"shan't\",\n",
              " 'shouldn',\n",
              " \"shouldn't\",\n",
              " 'wasn',\n",
              " \"wasn't\",\n",
              " 'weren',\n",
              " \"weren't\",\n",
              " 'won',\n",
              " \"won't\",\n",
              " 'wouldn',\n",
              " \"wouldn't\"]"
            ]
          },
          "metadata": {},
          "execution_count": 254
        }
      ]
    },
    {
      "cell_type": "code",
      "source": [
        "df[\"text_clean\"] = df[\"description\"].apply(lambda x: preprocess_text(x, flg_stemm=False, flg_lemm=True, lst_stopwords=lst_stopwords))\n",
        "df.head()"
      ],
      "metadata": {
        "colab": {
          "base_uri": "https://localhost:8080/",
          "height": 206
        },
        "id": "HmXjwoQOSVaG",
        "outputId": "6ce54cf8-a489-4888-d8b2-bffbe21f2137"
      },
      "execution_count": 255,
      "outputs": [
        {
          "output_type": "execute_result",
          "data": {
            "text/plain": [
              "      category                                        description  \\\n",
              "2   applicator  Le damos vida a tus espacios. Pintamos espacio...   \n",
              "4   applicator  Pintura  Microcemento  Molduras Papel Pintado ...   \n",
              "15  applicator  Empresa Familiar  Más de 40 años   Pintamos Mo...   \n",
              "34  applicator  Hotline +1 814 3008251  Venetian plastering  a...   \n",
              "40  applicator  Pitture per interni ed esterni • Resine • Micr...   \n",
              "\n",
              "                                           text_clean  \n",
              "2   le damos vida tus espacios pintamos espacios e...  \n",
              "4   pintura microcemento molduras papel pintado ef...  \n",
              "15  empresa familiar más de 40 años pintamos momen...  \n",
              "34  hotline 1 814 3008251 venetian plastering acce...  \n",
              "40  pitture per interni ed esterni resine microcem...  "
            ],
            "text/html": [
              "\n",
              "\n",
              "  <div id=\"df-0f7ca3b0-e648-4896-8f23-9fdffd95b05a\">\n",
              "    <div class=\"colab-df-container\">\n",
              "      <div>\n",
              "<style scoped>\n",
              "    .dataframe tbody tr th:only-of-type {\n",
              "        vertical-align: middle;\n",
              "    }\n",
              "\n",
              "    .dataframe tbody tr th {\n",
              "        vertical-align: top;\n",
              "    }\n",
              "\n",
              "    .dataframe thead th {\n",
              "        text-align: right;\n",
              "    }\n",
              "</style>\n",
              "<table border=\"1\" class=\"dataframe\">\n",
              "  <thead>\n",
              "    <tr style=\"text-align: right;\">\n",
              "      <th></th>\n",
              "      <th>category</th>\n",
              "      <th>description</th>\n",
              "      <th>text_clean</th>\n",
              "    </tr>\n",
              "  </thead>\n",
              "  <tbody>\n",
              "    <tr>\n",
              "      <th>2</th>\n",
              "      <td>applicator</td>\n",
              "      <td>Le damos vida a tus espacios. Pintamos espacio...</td>\n",
              "      <td>le damos vida tus espacios pintamos espacios e...</td>\n",
              "    </tr>\n",
              "    <tr>\n",
              "      <th>4</th>\n",
              "      <td>applicator</td>\n",
              "      <td>Pintura  Microcemento  Molduras Papel Pintado ...</td>\n",
              "      <td>pintura microcemento molduras papel pintado ef...</td>\n",
              "    </tr>\n",
              "    <tr>\n",
              "      <th>15</th>\n",
              "      <td>applicator</td>\n",
              "      <td>Empresa Familiar  Más de 40 años   Pintamos Mo...</td>\n",
              "      <td>empresa familiar más de 40 años pintamos momen...</td>\n",
              "    </tr>\n",
              "    <tr>\n",
              "      <th>34</th>\n",
              "      <td>applicator</td>\n",
              "      <td>Hotline +1 814 3008251  Venetian plastering  a...</td>\n",
              "      <td>hotline 1 814 3008251 venetian plastering acce...</td>\n",
              "    </tr>\n",
              "    <tr>\n",
              "      <th>40</th>\n",
              "      <td>applicator</td>\n",
              "      <td>Pitture per interni ed esterni • Resine • Micr...</td>\n",
              "      <td>pitture per interni ed esterni resine microcem...</td>\n",
              "    </tr>\n",
              "  </tbody>\n",
              "</table>\n",
              "</div>\n",
              "      <button class=\"colab-df-convert\" onclick=\"convertToInteractive('df-0f7ca3b0-e648-4896-8f23-9fdffd95b05a')\"\n",
              "              title=\"Convert this dataframe to an interactive table.\"\n",
              "              style=\"display:none;\">\n",
              "\n",
              "  <svg xmlns=\"http://www.w3.org/2000/svg\" height=\"24px\"viewBox=\"0 0 24 24\"\n",
              "       width=\"24px\">\n",
              "    <path d=\"M0 0h24v24H0V0z\" fill=\"none\"/>\n",
              "    <path d=\"M18.56 5.44l.94 2.06.94-2.06 2.06-.94-2.06-.94-.94-2.06-.94 2.06-2.06.94zm-11 1L8.5 8.5l.94-2.06 2.06-.94-2.06-.94L8.5 2.5l-.94 2.06-2.06.94zm10 10l.94 2.06.94-2.06 2.06-.94-2.06-.94-.94-2.06-.94 2.06-2.06.94z\"/><path d=\"M17.41 7.96l-1.37-1.37c-.4-.4-.92-.59-1.43-.59-.52 0-1.04.2-1.43.59L10.3 9.45l-7.72 7.72c-.78.78-.78 2.05 0 2.83L4 21.41c.39.39.9.59 1.41.59.51 0 1.02-.2 1.41-.59l7.78-7.78 2.81-2.81c.8-.78.8-2.07 0-2.86zM5.41 20L4 18.59l7.72-7.72 1.47 1.35L5.41 20z\"/>\n",
              "  </svg>\n",
              "      </button>\n",
              "\n",
              "\n",
              "\n",
              "    <div id=\"df-e449863b-87ee-455e-b42b-d8152fb0cea0\">\n",
              "      <button class=\"colab-df-quickchart\" onclick=\"quickchart('df-e449863b-87ee-455e-b42b-d8152fb0cea0')\"\n",
              "              title=\"Suggest charts.\"\n",
              "              style=\"display:none;\">\n",
              "\n",
              "<svg xmlns=\"http://www.w3.org/2000/svg\" height=\"24px\"viewBox=\"0 0 24 24\"\n",
              "     width=\"24px\">\n",
              "    <g>\n",
              "        <path d=\"M19 3H5c-1.1 0-2 .9-2 2v14c0 1.1.9 2 2 2h14c1.1 0 2-.9 2-2V5c0-1.1-.9-2-2-2zM9 17H7v-7h2v7zm4 0h-2V7h2v10zm4 0h-2v-4h2v4z\"/>\n",
              "    </g>\n",
              "</svg>\n",
              "      </button>\n",
              "    </div>\n",
              "\n",
              "<style>\n",
              "  .colab-df-quickchart {\n",
              "    background-color: #E8F0FE;\n",
              "    border: none;\n",
              "    border-radius: 50%;\n",
              "    cursor: pointer;\n",
              "    display: none;\n",
              "    fill: #1967D2;\n",
              "    height: 32px;\n",
              "    padding: 0 0 0 0;\n",
              "    width: 32px;\n",
              "  }\n",
              "\n",
              "  .colab-df-quickchart:hover {\n",
              "    background-color: #E2EBFA;\n",
              "    box-shadow: 0px 1px 2px rgba(60, 64, 67, 0.3), 0px 1px 3px 1px rgba(60, 64, 67, 0.15);\n",
              "    fill: #174EA6;\n",
              "  }\n",
              "\n",
              "  [theme=dark] .colab-df-quickchart {\n",
              "    background-color: #3B4455;\n",
              "    fill: #D2E3FC;\n",
              "  }\n",
              "\n",
              "  [theme=dark] .colab-df-quickchart:hover {\n",
              "    background-color: #434B5C;\n",
              "    box-shadow: 0px 1px 3px 1px rgba(0, 0, 0, 0.15);\n",
              "    filter: drop-shadow(0px 1px 2px rgba(0, 0, 0, 0.3));\n",
              "    fill: #FFFFFF;\n",
              "  }\n",
              "</style>\n",
              "\n",
              "    <script>\n",
              "      async function quickchart(key) {\n",
              "        const containerElement = document.querySelector('#' + key);\n",
              "        const charts = await google.colab.kernel.invokeFunction(\n",
              "            'suggestCharts', [key], {});\n",
              "      }\n",
              "    </script>\n",
              "\n",
              "      <script>\n",
              "\n",
              "function displayQuickchartButton(domScope) {\n",
              "  let quickchartButtonEl =\n",
              "    domScope.querySelector('#df-e449863b-87ee-455e-b42b-d8152fb0cea0 button.colab-df-quickchart');\n",
              "  quickchartButtonEl.style.display =\n",
              "    google.colab.kernel.accessAllowed ? 'block' : 'none';\n",
              "}\n",
              "\n",
              "        displayQuickchartButton(document);\n",
              "      </script>\n",
              "      <style>\n",
              "    .colab-df-container {\n",
              "      display:flex;\n",
              "      flex-wrap:wrap;\n",
              "      gap: 12px;\n",
              "    }\n",
              "\n",
              "    .colab-df-convert {\n",
              "      background-color: #E8F0FE;\n",
              "      border: none;\n",
              "      border-radius: 50%;\n",
              "      cursor: pointer;\n",
              "      display: none;\n",
              "      fill: #1967D2;\n",
              "      height: 32px;\n",
              "      padding: 0 0 0 0;\n",
              "      width: 32px;\n",
              "    }\n",
              "\n",
              "    .colab-df-convert:hover {\n",
              "      background-color: #E2EBFA;\n",
              "      box-shadow: 0px 1px 2px rgba(60, 64, 67, 0.3), 0px 1px 3px 1px rgba(60, 64, 67, 0.15);\n",
              "      fill: #174EA6;\n",
              "    }\n",
              "\n",
              "    [theme=dark] .colab-df-convert {\n",
              "      background-color: #3B4455;\n",
              "      fill: #D2E3FC;\n",
              "    }\n",
              "\n",
              "    [theme=dark] .colab-df-convert:hover {\n",
              "      background-color: #434B5C;\n",
              "      box-shadow: 0px 1px 3px 1px rgba(0, 0, 0, 0.15);\n",
              "      filter: drop-shadow(0px 1px 2px rgba(0, 0, 0, 0.3));\n",
              "      fill: #FFFFFF;\n",
              "    }\n",
              "  </style>\n",
              "\n",
              "      <script>\n",
              "        const buttonEl =\n",
              "          document.querySelector('#df-0f7ca3b0-e648-4896-8f23-9fdffd95b05a button.colab-df-convert');\n",
              "        buttonEl.style.display =\n",
              "          google.colab.kernel.accessAllowed ? 'block' : 'none';\n",
              "\n",
              "        async function convertToInteractive(key) {\n",
              "          const element = document.querySelector('#df-0f7ca3b0-e648-4896-8f23-9fdffd95b05a');\n",
              "          const dataTable =\n",
              "            await google.colab.kernel.invokeFunction('convertToInteractive',\n",
              "                                                     [key], {});\n",
              "          if (!dataTable) return;\n",
              "\n",
              "          const docLinkHtml = 'Like what you see? Visit the ' +\n",
              "            '<a target=\"_blank\" href=https://colab.research.google.com/notebooks/data_table.ipynb>data table notebook</a>'\n",
              "            + ' to learn more about interactive tables.';\n",
              "          element.innerHTML = '';\n",
              "          dataTable['output_type'] = 'display_data';\n",
              "          await google.colab.output.renderOutput(dataTable, element);\n",
              "          const docLink = document.createElement('div');\n",
              "          docLink.innerHTML = docLinkHtml;\n",
              "          element.appendChild(docLink);\n",
              "        }\n",
              "      </script>\n",
              "    </div>\n",
              "  </div>\n"
            ]
          },
          "metadata": {},
          "execution_count": 255
        }
      ]
    },
    {
      "cell_type": "markdown",
      "source": [
        "# Create Target Clusters"
      ],
      "metadata": {
        "id": "xIoDXzxGUSWU"
      }
    },
    {
      "cell_type": "markdown",
      "source": [
        "Load gensim GloVe word embeddings"
      ],
      "metadata": {
        "id": "BK2Nbsj7UaZ5"
      }
    },
    {
      "cell_type": "code",
      "source": [
        "nlp = gensim_api.load(\"glove-wiki-gigaword-300\")"
      ],
      "metadata": {
        "id": "ekn-oBqwTsJG"
      },
      "execution_count": 256,
      "outputs": []
    },
    {
      "cell_type": "code",
      "source": [
        "# The gensim package has a very convenient function that returns the most similar words for any given word into the vocabulary\n",
        "nlp.most_similar([\"applicator\"], topn=5)"
      ],
      "metadata": {
        "id": "Jk1wplVQVo27",
        "colab": {
          "base_uri": "https://localhost:8080/"
        },
        "outputId": "4d8f9b0c-bb30-4e6f-f548-c65b4e9c63b1"
      },
      "execution_count": 257,
      "outputs": [
        {
          "output_type": "execute_result",
          "data": {
            "text/plain": [
              "[('applicators', 0.4341956675052643),\n",
              " ('sprayer', 0.4168723523616791),\n",
              " ('pressure-sensitive', 0.39669716358184814),\n",
              " ('zabaglione', 0.3942999541759491),\n",
              " ('dildo', 0.38730332255363464)]"
            ]
          },
          "metadata": {},
          "execution_count": 257
        }
      ]
    },
    {
      "cell_type": "code",
      "source": [
        "# The gensim package has a very convenient function that returns the most similar words for any given word into the vocabulary\n",
        "nlp.most_similar([\"architect\"], topn=5)"
      ],
      "metadata": {
        "id": "Cxab3iRnXfX_",
        "colab": {
          "base_uri": "https://localhost:8080/"
        },
        "outputId": "a555fcad-eedb-4a91-97d7-24f00e69acf0"
      },
      "execution_count": 258,
      "outputs": [
        {
          "output_type": "execute_result",
          "data": {
            "text/plain": [
              "[('architects', 0.6924216747283936),\n",
              " ('sculptor', 0.6161724328994751),\n",
              " ('architectural', 0.5512393712997437),\n",
              " ('architecture', 0.5408962965011597),\n",
              " ('designed', 0.5389615893363953)]"
            ]
          },
          "metadata": {},
          "execution_count": 258
        }
      ]
    },
    {
      "cell_type": "code",
      "source": [
        "# The gensim package has a very convenient function that returns the most similar words for any given word into the vocabulary\n",
        "nlp.most_similar([\"distributor\"], topn=5)"
      ],
      "metadata": {
        "id": "QYSX9yKzXfhd",
        "colab": {
          "base_uri": "https://localhost:8080/"
        },
        "outputId": "48747650-2558-4d7e-cbc0-3f5748ed1543"
      },
      "execution_count": 259,
      "outputs": [
        {
          "output_type": "execute_result",
          "data": {
            "text/plain": [
              "[('distributors', 0.6703835129737854),\n",
              " ('wholesaler', 0.6256373524665833),\n",
              " ('supplier', 0.5923973917961121),\n",
              " ('manufacturer', 0.5860058665275574),\n",
              " ('importer', 0.5746791958808899)]"
            ]
          },
          "metadata": {},
          "execution_count": 259
        }
      ]
    },
    {
      "cell_type": "code",
      "source": [
        "# The gensim package has a very convenient function that returns the most similar words for any given word into the vocabulary\n",
        "nlp.most_similar([\"manufacturer\"], topn=5)"
      ],
      "metadata": {
        "id": "juyZoQ0iXfrr",
        "colab": {
          "base_uri": "https://localhost:8080/"
        },
        "outputId": "1f405d8a-2079-4a1e-cc70-8408bf3d3975"
      },
      "execution_count": 260,
      "outputs": [
        {
          "output_type": "execute_result",
          "data": {
            "text/plain": [
              "[('maker', 0.7996602654457092),\n",
              " ('manufacturers', 0.6734965443611145),\n",
              " ('manufactured', 0.6644791960716248),\n",
              " ('supplier', 0.6449663639068604),\n",
              " ('makers', 0.6203587055206299)]"
            ]
          },
          "metadata": {},
          "execution_count": 260
        }
      ]
    },
    {
      "cell_type": "code",
      "source": [
        "# The gensim package has a very convenient function that returns the most similar words for any given word into the vocabulary\n",
        "nlp.most_similar([\"influencer\"], topn=5)"
      ],
      "metadata": {
        "id": "pZzxgbgLXf0c",
        "colab": {
          "base_uri": "https://localhost:8080/"
        },
        "outputId": "f04e0459-f54f-4a6f-dc16-52eaba5d4ed4"
      },
      "execution_count": 261,
      "outputs": [
        {
          "output_type": "execute_result",
          "data": {
            "text/plain": [
              "[('influencers', 0.4158132076263428),\n",
              " ('eduniversal', 0.405753493309021),\n",
              " ('fast-track', 0.38926947116851807),\n",
              " ('eurofest', 0.3859441876411438),\n",
              " ('inape', 0.381629079580307)]"
            ]
          },
          "metadata": {},
          "execution_count": 261
        }
      ]
    },
    {
      "cell_type": "code",
      "source": [
        "def get_similar_words(lst_words, top, nlp):\n",
        "    lst_out = lst_words\n",
        "    for tupla in nlp.most_similar(lst_words, topn=top):\n",
        "        lst_out.append(tupla[0])\n",
        "    return list(set(lst_out))"
      ],
      "metadata": {
        "id": "o9YPPv3zVyAn"
      },
      "execution_count": 262,
      "outputs": []
    },
    {
      "cell_type": "code",
      "source": [
        "## Create Dictionary {category:[keywords]}\n",
        "dic_clusters = {}\n",
        "dic_clusters[\"applicator\"] = get_similar_words(['designs','designed','architecture','architectural','designing'], top=30, nlp=nlp)\n",
        "dic_clusters[\"architect\"] = get_similar_words(['architects','sculptor','architectural','architecture','designed'], top=30, nlp=nlp)\n",
        "dic_clusters[\"distributor\"] = get_similar_words(['distributors','wholesaler','supplier','manufacturer','importer'], top=30, nlp=nlp)\n",
        "dic_clusters[\"manufacturer\"] = get_similar_words(['maker','manufacturers','manufactured','supplier','makers'], top=30, nlp=nlp)\n",
        "dic_clusters[\"influencer\"] = get_similar_words(['influencers','eduniversal','fast-track','eurofest','inape'], top=30, nlp=nlp)"
      ],
      "metadata": {
        "id": "1sdh06_lV03C"
      },
      "execution_count": 263,
      "outputs": []
    },
    {
      "cell_type": "code",
      "source": [
        "## print top 5 closest words\n",
        "print('Top words per label:')\n",
        "for k,v in dic_clusters.items():\n",
        "    print(\"{0:15}..... {1}\".format(k, v[0:5], len(v)))"
      ],
      "metadata": {
        "id": "eNX43MPfYmC7",
        "colab": {
          "base_uri": "https://localhost:8080/"
        },
        "outputId": "0a5077c0-9ec5-4750-d45b-d10d0c653c07"
      },
      "execution_count": 264,
      "outputs": [
        {
          "output_type": "stream",
          "name": "stdout",
          "text": [
            "Top words per label:\n",
            "applicator     ..... ['modern', 'developed', 'features', 'art', 'drawings']\n",
            "architect      ..... ['art', 'renaissance', 'drawings', 'painter', 'artist']\n",
            "distributor    ..... ['wholesalers', 'wholesale', 'manufacturer', 'makers', 'buyer']\n",
            "manufacturer   ..... ['electronics', 'factory', 'machinery', 'equipment', 'manufacturer']\n",
            "influencer     ..... ['agelena', 'plagiobothrys', 'phrynobatrachus', 'influencers', 'sparganothis']\n"
          ]
        }
      ]
    },
    {
      "cell_type": "markdown",
      "source": [
        "# Visualize the selected topics with keyword clusters"
      ],
      "metadata": {
        "id": "br6p_8HvYo6_"
      }
    },
    {
      "cell_type": "code",
      "source": [
        "## word embedding\n",
        "tot_words = [word for v in dic_clusters.values() for word in v]\n",
        "X = nlp[tot_words]\n",
        "\n",
        "## pca\n",
        "pca = manifold.TSNE(perplexity=40, n_components=2, init='pca')\n",
        "X = pca.fit_transform(X)\n",
        "\n",
        "## create dtf\n",
        "dtf_GloVe = pd.DataFrame()\n",
        "for k,v in dic_clusters.items():\n",
        "    size = len(dtf_GloVe) + len(v)\n",
        "    dtf_group = pd.DataFrame(X[len(dtf_GloVe):size], columns=[\"x\",\"y\"], index=v)\n",
        "    dtf_group[\"cluster\"] = k\n",
        "    dtf_GloVe = dtf_GloVe.append(dtf_group)\n",
        "\n",
        "## plot\n",
        "%matplotlib inline\n",
        "fig, ax = plt.subplots(figsize=(15,10))\n",
        "sns.scatterplot(data=dtf_GloVe, x=\"x\", y=\"y\", hue=\"cluster\", ax=ax)\n",
        "#ax.legend().texts[0].set_text(None)\n",
        "ax.legend()\n",
        "ax.set(xlabel=None, ylabel=None, xticks=[], xticklabels=[], yticks=[], yticklabels=[])\n",
        "for i in range(len(dtf_GloVe)):\n",
        "    ax.annotate(dtf_GloVe.index[i], xy=(dtf_GloVe[\"x\"].iloc[i], dtf_GloVe[\"y\"].iloc[i]), xytext=(5,2), textcoords='offset points', ha='right', va='bottom')"
      ],
      "metadata": {
        "id": "1rWk-_ZhZIQc",
        "colab": {
          "base_uri": "https://localhost:8080/",
          "height": 981
        },
        "outputId": "879b55f7-5d5a-481b-8fa7-de457478cba1"
      },
      "execution_count": 265,
      "outputs": [
        {
          "output_type": "stream",
          "name": "stderr",
          "text": [
            "<ipython-input-265-dfa81cf855a5>:15: FutureWarning: The frame.append method is deprecated and will be removed from pandas in a future version. Use pandas.concat instead.\n",
            "  dtf_GloVe = dtf_GloVe.append(dtf_group)\n",
            "<ipython-input-265-dfa81cf855a5>:15: FutureWarning: The frame.append method is deprecated and will be removed from pandas in a future version. Use pandas.concat instead.\n",
            "  dtf_GloVe = dtf_GloVe.append(dtf_group)\n",
            "<ipython-input-265-dfa81cf855a5>:15: FutureWarning: The frame.append method is deprecated and will be removed from pandas in a future version. Use pandas.concat instead.\n",
            "  dtf_GloVe = dtf_GloVe.append(dtf_group)\n",
            "<ipython-input-265-dfa81cf855a5>:15: FutureWarning: The frame.append method is deprecated and will be removed from pandas in a future version. Use pandas.concat instead.\n",
            "  dtf_GloVe = dtf_GloVe.append(dtf_group)\n",
            "<ipython-input-265-dfa81cf855a5>:15: FutureWarning: The frame.append method is deprecated and will be removed from pandas in a future version. Use pandas.concat instead.\n",
            "  dtf_GloVe = dtf_GloVe.append(dtf_group)\n"
          ]
        },
        {
          "output_type": "display_data",
          "data": {
            "text/plain": [
              "<Figure size 1500x1000 with 1 Axes>"
            ],
            "image/png": "[encoded data removed]"
          },
          "metadata": {}
        }
      ]
    },
    {
      "cell_type": "markdown",
      "source": [
        "# Load Transformers BERT model to create embeddings"
      ],
      "metadata": {
        "id": "GF6aLtRcaV0r"
      }
    },
    {
      "cell_type": "code",
      "source": [
        "## for BERT\n",
        "import transformers\n",
        "## bert tokenizer\n",
        "tokenizer = transformers.BertTokenizer.from_pretrained('bert-base-uncased', do_lower_case=True)\n",
        "## bert model\n",
        "nlp = transformers.TFBertModel.from_pretrained('bert-base-uncased')"
      ],
      "metadata": {
        "id": "OL18_OM8aZii",
        "colab": {
          "base_uri": "https://localhost:8080/"
        },
        "outputId": "18711199-5485-460d-f854-c1c3d158e601"
      },
      "execution_count": 266,
      "outputs": [
        {
          "output_type": "stream",
          "name": "stderr",
          "text": [
            "Some layers from the model checkpoint at bert-base-uncased were not used when initializing TFBertModel: ['nsp___cls', 'mlm___cls']\n",
            "- This IS expected if you are initializing TFBertModel from the checkpoint of a model trained on another task or with another architecture (e.g. initializing a BertForSequenceClassification model from a BertForPreTraining model).\n",
            "- This IS NOT expected if you are initializing TFBertModel from the checkpoint of a model that you expect to be exactly identical (initializing a BertForSequenceClassification model from a BertForSequenceClassification model).\n",
            "All the layers of TFBertModel were initialized from the model checkpoint at bert-base-uncased.\n",
            "If your task is similar to the task the model of the checkpoint was trained on, you can already use TFBertModel for predictions without further training.\n"
          ]
        }
      ]
    },
    {
      "cell_type": "markdown",
      "source": [
        "*   create average embeddings of sentence\n",
        "*   Use BERT Word Embedding to represent each text with an array (shape: number of tokens x 768) and then summarize each article into a mean vector"
      ],
      "metadata": {
        "id": "HKd-8uGLaea_"
      }
    },
    {
      "cell_type": "code",
      "source": [
        "## function to apply\n",
        "def utils_bert_embedding(txt, tokenizer, nlp):\n",
        "    '''\n",
        "    Word embedding with Bert (equivalent to nlp[\"word\"]).\n",
        "    :parameter\n",
        "        :param txt: string\n",
        "        :param tokenizer: transformers tokenizer\n",
        "        :param nlp: transformers bert\n",
        "    :return\n",
        "        tensor sentences x words x vector (1x3x768)\n",
        "    '''\n",
        "    # tokenize sentence to tokens (integers)\n",
        "    idx = tokenizer.encode(txt)\n",
        "    # convert to array of shape (1, num_words+2) - EOS and CLS added\n",
        "    idx = np.array(idx)[None,:]\n",
        "    # generate embeddings for each token - output is a tuple\n",
        "    embedding = nlp(idx)\n",
        "    # select first member of the tuple, remove first dimension which is 1 to get (num_words,embedding size 712)\n",
        "    # exclude CLS and EOS tokens\n",
        "    X = np.array(embedding[0][0][1:-1])\n",
        "    return X"
      ],
      "metadata": {
        "id": "2_YGjvfIanmr"
      },
      "execution_count": 267,
      "outputs": []
    },
    {
      "cell_type": "code",
      "source": [
        "%%time\n",
        "## create list of news vector\n",
        "lst_mean_vecs = [utils_bert_embedding(txt, tokenizer, nlp).mean(0) for txt in tqdm(df[\"text_clean\"])]"
      ],
      "metadata": {
        "id": "WtUXinFgap6n",
        "colab": {
          "base_uri": "https://localhost:8080/"
        },
        "outputId": "7385537a-9f12-4615-a62e-36c3e09e51d1"
      },
      "execution_count": 268,
      "outputs": [
        {
          "output_type": "stream",
          "name": "stderr",
          "text": [
            "100%|██████████| 68/68 [00:48<00:00,  1.39it/s]"
          ]
        },
        {
          "output_type": "stream",
          "name": "stdout",
          "text": [
            "CPU times: user 41 s, sys: 885 ms, total: 41.9 s\n",
            "Wall time: 48.9 s\n"
          ]
        },
        {
          "output_type": "stream",
          "name": "stderr",
          "text": [
            "\n"
          ]
        }
      ]
    },
    {
      "cell_type": "code",
      "source": [
        "## create the feature matrix (n news x 768)\n",
        "X = np.array(lst_mean_vecs)\n",
        "X.shape"
      ],
      "metadata": {
        "id": "pG1jpvUtatz1",
        "colab": {
          "base_uri": "https://localhost:8080/"
        },
        "outputId": "e6e6e00e-12a3-4e1b-c833-49ecb865155e"
      },
      "execution_count": 269,
      "outputs": [
        {
          "output_type": "execute_result",
          "data": {
            "text/plain": [
              "(68, 768)"
            ]
          },
          "metadata": {},
          "execution_count": 269
        }
      ]
    },
    {
      "cell_type": "code",
      "source": [
        "X"
      ],
      "metadata": {
        "id": "XfbYk4t4a3FG",
        "colab": {
          "base_uri": "https://localhost:8080/"
        },
        "outputId": "ac7ebc42-618e-4994-ee54-4980f0dcb814"
      },
      "execution_count": 270,
      "outputs": [
        {
          "output_type": "execute_result",
          "data": {
            "text/plain": [
              "array([[ 0.26890382,  0.4050604 ,  0.44560096, ..., -0.5525286 ,\n",
              "         0.14097811,  0.20034094],\n",
              "       [ 0.15175551,  0.04277207,  0.4933241 , ..., -0.17389506,\n",
              "        -0.04421312,  0.2031419 ],\n",
              "       [-0.28739893,  0.25987354,  0.37447286, ..., -0.52875483,\n",
              "         0.03847158,  0.23451228],\n",
              "       ...,\n",
              "       [ 0.4354916 ,  0.21118507,  0.19250216, ...,  0.25014094,\n",
              "        -0.3391903 ,  0.1881599 ],\n",
              "       [-0.04000341,  0.10711654,  0.14605309, ..., -0.16673313,\n",
              "        -0.0915781 ,  0.36036044],\n",
              "       [ 0.33495605,  0.3276221 ,  0.23494945, ..., -0.31257156,\n",
              "        -0.5510606 , -0.06461672]], dtype=float32)"
            ]
          },
          "metadata": {},
          "execution_count": 270
        }
      ]
    },
    {
      "cell_type": "markdown",
      "source": [
        "*   Do the same with the keywords in the target clusters. Each label is identified by a list of words that help BERT to understand the context within the clusters\n"
      ],
      "metadata": {
        "id": "xJpiYhoca8xI"
      }
    },
    {
      "cell_type": "code",
      "source": [
        "# Create y as {label:mean_vector}\n",
        "dic_y = {k:utils_bert_embedding(v, tokenizer, nlp).mean(0) for k,v in tqdm(dic_clusters.items())}"
      ],
      "metadata": {
        "id": "ukIr3NzibB46",
        "colab": {
          "base_uri": "https://localhost:8080/"
        },
        "outputId": "4eb5699f-1572-4fdb-fc58-33f9031679e3"
      },
      "execution_count": 271,
      "outputs": [
        {
          "output_type": "stream",
          "name": "stderr",
          "text": [
            "100%|██████████| 5/5 [00:02<00:00,  2.43it/s]\n"
          ]
        }
      ]
    },
    {
      "cell_type": "code",
      "source": [
        "dic_clusters['applicator']"
      ],
      "metadata": {
        "id": "hgQ9OasKbFFb",
        "colab": {
          "base_uri": "https://localhost:8080/"
        },
        "outputId": "d7500563-eeca-496a-8a93-2cd45e0a0b78"
      },
      "execution_count": 272,
      "outputs": [
        {
          "output_type": "execute_result",
          "data": {
            "text/plain": [
              "['modern',\n",
              " 'developed',\n",
              " 'features',\n",
              " 'art',\n",
              " 'drawings',\n",
              " 'architecture',\n",
              " 'decorative',\n",
              " 'designer',\n",
              " 'works',\n",
              " 'built',\n",
              " 'designing',\n",
              " 'artwork',\n",
              " 'modeled',\n",
              " 'concept',\n",
              " 'incorporating',\n",
              " 'buildings',\n",
              " 'designs',\n",
              " 'design',\n",
              " 'interiors',\n",
              " 'unique',\n",
              " 'style',\n",
              " 'structures',\n",
              " 'sculpture',\n",
              " 'designed',\n",
              " 'modernist',\n",
              " 'building',\n",
              " 'innovative',\n",
              " 'styles',\n",
              " 'architects',\n",
              " 'constructed',\n",
              " 'custom',\n",
              " 'designers',\n",
              " 'architectural',\n",
              " 'architect',\n",
              " 'examples']"
            ]
          },
          "metadata": {},
          "execution_count": 272
        }
      ]
    },
    {
      "cell_type": "code",
      "source": [
        "dic_y['applicator'].shape"
      ],
      "metadata": {
        "id": "uUYjvBJvbMFz",
        "colab": {
          "base_uri": "https://localhost:8080/"
        },
        "outputId": "008b7e20-213c-4b91-fe27-4ecf4031d852"
      },
      "execution_count": 273,
      "outputs": [
        {
          "output_type": "execute_result",
          "data": {
            "text/plain": [
              "(768,)"
            ]
          },
          "metadata": {},
          "execution_count": 273
        }
      ]
    },
    {
      "cell_type": "code",
      "source": [
        "dic_y['applicator']"
      ],
      "metadata": {
        "id": "szMiGOcVbQBM",
        "colab": {
          "base_uri": "https://localhost:8080/"
        },
        "outputId": "26327e08-68b8-4b2f-bc39-4018e018ac8c"
      },
      "execution_count": 274,
      "outputs": [
        {
          "output_type": "execute_result",
          "data": {
            "text/plain": [
              "array([ 7.30780780e-01,  8.25625181e-01,  5.37744880e-01, -1.77965522e-01,\n",
              "        1.58055425e-01,  1.71878949e-01,  1.34821996e-01, -3.13537806e-01,\n",
              "       -4.35878158e-01, -5.70033729e-01,  1.37205824e-01, -1.79316044e-01,\n",
              "       -1.89744607e-02,  6.26327157e-01, -2.77891994e-01,  5.95775723e-01,\n",
              "       -1.79618493e-01, -1.84037134e-01, -6.00441456e-01,  6.96992099e-01,\n",
              "       -1.84140146e-01, -2.74694920e-01,  1.18395709e-01, -1.60324842e-01,\n",
              "        2.09490713e-02, -3.38624239e-01,  9.54016671e-02,  1.91462450e-02,\n",
              "       -1.04624569e-01,  6.49172515e-02,  5.06997049e-01, -4.06196825e-02,\n",
              "       -2.10629869e-03, -2.27739632e-01, -2.14284167e-01, -1.59267351e-01,\n",
              "       -9.63897351e-03, -3.98316860e-01, -2.13797748e-01, -1.23210758e-01,\n",
              "       -4.45545405e-01, -5.76391339e-01,  8.09345424e-01, -2.52821207e-01,\n",
              "       -1.42458424e-01, -5.39445043e-01, -1.46786287e-01,  2.16488913e-01,\n",
              "       -3.51936936e-01, -1.35044202e-01, -2.15255588e-01,  1.13440283e-01,\n",
              "        3.17303121e-01, -2.77621336e-02,  7.13880360e-02,  5.47993422e-01,\n",
              "        1.10730536e-01, -3.14730853e-01, -2.85925388e-01, -3.81003946e-01,\n",
              "       -1.71782076e-01, -5.36537804e-02,  1.40300626e-02,  3.10470194e-01,\n",
              "        2.56542057e-01, -1.94748685e-01,  7.85427839e-02, -3.28685082e-02,\n",
              "       -4.37350005e-01, -3.22504908e-01, -4.09814149e-01,  1.17323115e-01,\n",
              "        5.27884245e-01, -9.17676613e-02, -3.28661919e-01,  3.30611467e-01,\n",
              "       -4.02373701e-01,  2.07532033e-01,  1.73302233e-01, -1.90042004e-01,\n",
              "       -1.13846876e-01,  5.60046196e-01,  1.03983991e-01,  8.97749737e-02,\n",
              "        4.78860378e-01,  2.63323635e-01,  1.18056215e-01,  2.87888497e-01,\n",
              "       -2.50712007e-01, -2.65977621e-01,  9.80558768e-02, -1.28564090e-01,\n",
              "        1.43261835e-01,  1.07160881e-01,  4.88301575e-01,  3.95801030e-02,\n",
              "       -4.69045103e-01,  2.74132401e-01, -2.87178718e-02,  5.43236911e-01,\n",
              "        4.09375280e-01,  4.74211782e-01, -4.82672416e-02,  8.98847356e-02,\n",
              "        1.13640442e-01, -1.49861714e-02, -1.64093420e-01,  2.46747350e-03,\n",
              "       -7.27880746e-02,  2.41857469e-01,  1.24643147e-02, -4.08084959e-01,\n",
              "       -1.78410381e-01, -5.21965683e-01,  3.03668261e-01,  1.00634731e-02,\n",
              "        1.10768355e-01,  2.78968006e-01, -7.25345984e-02, -1.43730775e-01,\n",
              "       -4.16012585e-01, -2.98259467e-01, -2.80335039e-01,  4.97573793e-01,\n",
              "       -2.54848272e-01,  1.57206625e-01,  9.25518200e-02,  2.01386020e-01,\n",
              "       -2.67687678e-01, -2.39242554e-01,  6.49993345e-02,  3.81765902e-01,\n",
              "       -3.67476717e-02, -4.19890434e-01,  3.46924700e-02,  1.46996275e-01,\n",
              "        9.61266905e-02,  1.55094057e-01, -2.33285110e-02, -1.41101465e-01,\n",
              "       -3.46533895e-01, -2.16576546e-01,  5.86293161e-01, -4.36980307e-01,\n",
              "       -6.45342022e-02, -1.30444407e-01,  4.83562469e-01, -1.37532149e-02,\n",
              "       -3.48387778e-01,  2.37772390e-01,  1.10435009e-01,  1.24585330e-01,\n",
              "       -4.26852256e-01,  2.21372515e-01,  8.97482261e-02, -4.37579937e-02,\n",
              "        5.84258735e-01, -5.16621657e-02,  7.54049867e-02, -1.80158153e-01,\n",
              "        6.57265663e-01,  3.17289233e-01, -1.99185703e-02,  2.22057223e-01,\n",
              "        2.32595280e-01, -7.72504956e-02, -6.75181389e-01,  2.78386503e-01,\n",
              "       -1.05403066e-01,  5.61797805e-02,  1.51152881e-02,  1.74029678e-01,\n",
              "        4.79202002e-01,  3.23502310e-02,  3.85475039e-01, -8.95980969e-02,\n",
              "        1.39234930e-01, -8.26026220e-03,  2.95289923e-02,  4.26892787e-01,\n",
              "        2.24393443e-03,  2.83034325e-01, -2.16828346e-01,  3.19974393e-01,\n",
              "        3.59569311e-01, -2.69012041e-02,  3.53515416e-01,  1.03392206e-01,\n",
              "       -6.81683123e-02, -1.51963860e-01, -2.58737236e-01,  4.94497865e-02,\n",
              "       -5.02851546e-01, -7.01675713e-02,  2.65181214e-01,  2.52741396e-01,\n",
              "       -2.89920956e-01,  7.52870619e-01, -2.57243574e-01,  1.21653214e-01,\n",
              "        3.87753636e-01, -7.72801880e-03,  3.08646798e-01, -6.23232648e-02,\n",
              "        5.44018969e-02, -3.63304228e-01,  7.97436535e-01,  1.24943973e-02,\n",
              "       -5.67565858e-01,  5.38934246e-02,  2.44655907e-01, -3.90396833e-01,\n",
              "        2.35956267e-01,  5.70933998e-01, -1.83415964e-01, -3.22778940e-01,\n",
              "       -5.25168836e-01,  3.47463018e-03, -9.43155438e-02,  2.13774920e-01,\n",
              "        6.09157681e-01, -8.24863017e-02, -6.06734693e-01,  1.93991318e-01,\n",
              "       -5.81390798e-01,  3.28924656e-01,  4.85890023e-02, -1.02366006e+00,\n",
              "        4.79012311e-01,  5.28167486e-01, -7.14482740e-02,  2.46959686e-01,\n",
              "       -5.27943932e-02, -4.20656621e-01,  9.39649940e-02,  7.56345168e-02,\n",
              "        3.66897881e-01, -1.87813297e-01,  5.61026275e-01, -2.18011618e-01,\n",
              "       -8.63152966e-02,  8.59250650e-02, -4.70112383e-01,  3.62005860e-01,\n",
              "        7.63825774e-02, -1.72842339e-01, -1.19151428e-01, -1.58872828e-01,\n",
              "       -1.16627105e-01,  3.81400645e-01, -1.87151417e-01,  2.25523561e-01,\n",
              "        2.62542248e-01, -4.94068526e-02,  1.03284158e-01, -1.81740522e-01,\n",
              "       -1.35238543e-01, -4.90981340e-01, -1.70733213e-01,  2.46792868e-01,\n",
              "       -1.15145944e-01,  1.30389184e-01,  5.75003564e-01, -1.52164185e-03,\n",
              "       -1.25952303e-01, -8.32866967e-01,  1.38382986e-01, -2.73551256e-03,\n",
              "       -1.08999930e-01, -2.91032851e-01, -2.75182296e-02,  6.86287954e-02,\n",
              "       -2.08361253e-01,  3.86813700e-01, -6.20368719e-01,  4.05872464e-02,\n",
              "        4.30135466e-02,  2.86093131e-02, -1.36429861e-01,  2.19619498e-02,\n",
              "       -2.13490769e-01,  6.95873439e-01,  4.01950747e-01, -6.98327422e-01,\n",
              "       -1.95700452e-01, -9.06591788e-02, -2.48319954e-01,  3.46695513e-01,\n",
              "       -2.52229840e-01, -5.61376512e-01,  1.04870185e-01,  4.21603471e-01,\n",
              "       -3.47886503e-01, -2.66276330e-01,  4.49543387e-01,  1.92315608e-01,\n",
              "       -2.53557265e-01, -6.38065562e-02,  3.43010575e-01, -6.23057783e-01,\n",
              "       -1.05661377e-01,  4.16079611e-01,  9.49411690e-02, -1.05973266e-01,\n",
              "        2.04772219e-01,  6.26404285e-01,  6.52858466e-02, -2.71122068e-01,\n",
              "       -5.42059135e+00, -4.77336496e-01,  4.63234097e-01, -8.20571929e-02,\n",
              "        3.69037837e-02, -9.41479057e-02,  1.70880884e-01,  2.52522945e-01,\n",
              "        2.31787160e-01, -5.06247461e-01,  6.09889627e-02,  1.35474697e-01,\n",
              "       -1.20211495e-02,  6.00682914e-01, -2.13733196e-01,  1.50087327e-01,\n",
              "       -4.03001219e-01, -2.88514048e-01, -2.67253786e-01,  5.85681140e-01,\n",
              "        2.60170221e-01, -4.28706318e-01,  3.12176287e-01, -2.15552062e-01,\n",
              "        3.37071359e-01, -1.40575960e-01, -7.82919228e-01,  2.40968764e-01,\n",
              "       -4.53567654e-01,  2.47296497e-01,  3.28299671e-01,  1.50495440e-01,\n",
              "       -4.25462127e-01,  6.81145370e-01, -1.31641448e-01,  3.32048982e-01,\n",
              "        4.54595163e-02, -1.32599697e-01,  4.38634343e-02, -7.76331276e-02,\n",
              "       -1.27540246e-01, -3.31758350e-01, -3.28513056e-01,  4.60042432e-02,\n",
              "        4.08746123e-01, -2.68042415e-01, -7.86528960e-02, -2.25569651e-01,\n",
              "       -5.30721880e-02,  3.66985679e-01,  2.35711783e-01,  3.27432811e-01,\n",
              "        3.25227261e-01, -9.61060971e-02,  1.02765612e-01,  2.91311331e-02,\n",
              "        4.76347119e-01,  2.48127669e-01, -3.38185728e-01, -9.43969041e-02,\n",
              "       -2.81885713e-02, -3.44779164e-01, -5.15008926e-01,  2.16796044e-02,\n",
              "       -2.13594869e-01,  1.29580200e-01, -5.99937975e-01, -4.73715216e-01,\n",
              "       -2.26941660e-01,  2.50482224e-02, -9.69484076e-02,  6.02145195e-01,\n",
              "       -1.08813919e-01, -4.63463485e-01,  7.28762001e-02, -4.99780267e-01,\n",
              "        2.55413294e-01, -5.97843409e-01,  3.82059842e-01, -3.74602467e-01,\n",
              "        1.04801739e-02, -2.60155439e-01, -2.39318624e-01, -1.29263133e-01,\n",
              "       -4.68791902e-01,  3.53914082e-01, -3.18799689e-02,  1.83856502e-01,\n",
              "       -3.79400045e-01,  3.14742893e-01,  3.57873023e-01,  1.88970357e-01,\n",
              "       -1.15786567e-01, -2.30015591e-01,  5.82969725e-01,  1.57983199e-01,\n",
              "        5.50970435e-01,  4.95596901e-02,  4.48178351e-01, -1.18937559e-01,\n",
              "       -5.60589284e-02, -4.21276271e-01,  4.73572254e-01,  1.20711789e-01,\n",
              "        2.00155228e-01, -3.36283445e-01, -2.26774573e-01, -5.21773193e-03,\n",
              "        5.94568610e-01,  2.54748493e-01,  3.87917459e-02, -3.92980091e-02,\n",
              "       -2.47645508e-02, -2.27669492e-01,  9.34266374e-02, -3.86198491e-01,\n",
              "        3.10031082e-02,  7.80802906e-01, -1.07765615e-01, -1.46244377e-01,\n",
              "        3.57302487e-01,  7.08908811e-02, -2.95865953e-01, -3.06131840e-01,\n",
              "       -6.90416098e-01,  3.39642130e-02, -3.07515532e-01,  1.90865770e-01,\n",
              "        4.70337458e-02,  2.35350385e-01, -1.99805088e-02, -2.89996982e-01,\n",
              "       -1.53204530e-01, -2.25966915e-01,  2.56289184e-01,  3.51729661e-01,\n",
              "        1.63230464e-01, -5.62778294e-01, -3.69695246e-01, -1.92580953e-01,\n",
              "        1.61965296e-01, -6.76525012e-02,  1.65077329e-01, -3.58731657e-01,\n",
              "       -4.20242548e-02,  4.32371795e-01, -1.61766768e-01,  2.59604305e-01,\n",
              "        3.58690023e-01,  6.93985969e-02, -6.74234688e-01, -3.19700450e-01,\n",
              "       -3.17605562e-03, -9.84262899e-02, -7.24448785e-02, -1.48326948e-01,\n",
              "        1.36757374e-01, -1.20605022e-01,  2.05200598e-01, -3.58611256e-01,\n",
              "       -1.53270438e-01,  1.03502616e-01, -9.90755334e-02,  9.14821625e-02,\n",
              "       -2.69658655e-01,  6.52216136e-01, -1.95823610e-01, -2.04924464e-01,\n",
              "       -1.74776033e-01, -1.09529316e-01,  3.19922417e-01, -1.96639135e-01,\n",
              "       -4.84496653e-02, -2.48515457e-01,  1.23095959e-01,  3.92840534e-01,\n",
              "        3.76642704e-01, -3.51553410e-01, -1.38909265e-01,  2.68954754e-01,\n",
              "       -5.88438436e-02,  3.70437391e-02,  1.42796546e-01, -2.09425390e-01,\n",
              "       -1.89593509e-01, -2.60503352e-01, -2.99654216e-01, -3.43322217e-01,\n",
              "       -6.33721352e-02,  2.10130811e-01,  3.59015048e-01,  8.31052214e-02,\n",
              "        2.60867566e-01, -3.22884619e-01, -1.69972524e-01,  2.90973783e-01,\n",
              "        1.27377853e-01,  3.21266092e-02,  3.90975624e-01, -2.67866880e-01,\n",
              "        3.00139058e-02, -1.68114752e-01, -5.69699258e-02,  3.68878424e-01,\n",
              "        1.83009908e-01, -2.50693470e-01, -4.08420302e-02, -3.63346338e-01,\n",
              "       -3.05461496e-01, -2.23992273e-01,  1.06241241e-01, -1.91373706e-01,\n",
              "        4.24188387e-04, -1.55797288e-01,  2.82617938e-02, -3.66973393e-02,\n",
              "       -2.25804836e-01,  2.93426937e-03, -4.02505696e-01,  4.50722516e-01,\n",
              "        2.37712070e-01,  5.77367432e-02, -3.13615322e-01, -2.73201969e-02,\n",
              "       -2.16248646e-01,  2.74181485e-01, -4.58233416e-01, -4.46440250e-01,\n",
              "       -1.67757630e-01, -2.34380335e-01,  1.32990181e-02, -3.84897202e-01,\n",
              "       -7.36690015e-02, -1.65803060e-01, -4.04891372e-03, -6.57255575e-02,\n",
              "       -2.35068083e-01, -8.93474698e-01,  4.65268902e-02,  2.70543814e-01,\n",
              "       -6.16344027e-02,  5.96653111e-02, -2.09625006e-01, -5.14541149e-01,\n",
              "        1.67695180e-01, -7.19407946e-02,  2.54415218e-02, -8.94876122e-02,\n",
              "       -3.09184700e-01,  4.00328450e-02, -1.66740656e-01, -5.57165705e-02,\n",
              "       -1.89548567e-01, -3.80861044e-01,  2.43392751e-01, -5.62270105e-01,\n",
              "       -8.77981856e-02,  2.80475318e-02, -1.63120646e-02, -4.23876375e-01,\n",
              "       -4.29759920e-01,  1.93981916e-01, -1.92076519e-01,  2.76786327e-01,\n",
              "       -1.23100080e-01,  2.81336963e-01,  9.88282450e-03,  1.58447281e-01,\n",
              "        3.02389205e-01, -3.20375919e-01,  2.31113702e-01,  1.35641480e-02,\n",
              "        4.83490467e-01,  5.75614795e-02, -2.46123448e-01, -3.64440769e-01,\n",
              "       -9.39811543e-02, -1.52177274e-01,  7.41980255e-01,  2.45704249e-01,\n",
              "       -4.62397784e-02,  6.22344017e-02, -2.64686137e-01, -1.56131685e-01,\n",
              "       -1.86063144e-02, -1.03959195e-01,  4.38337028e-02, -1.94645256e-01,\n",
              "       -4.94401008e-01, -1.63831517e-01,  4.55591291e-01, -2.19821736e-01,\n",
              "        1.00587264e-01, -5.15755918e-03, -3.81465703e-01,  3.50514323e-01,\n",
              "        1.37811467e-01,  6.94125704e-03,  1.77377418e-01,  2.96150237e-01,\n",
              "       -2.22799242e-01,  3.84283550e-02,  2.65692443e-01, -4.47798401e-01,\n",
              "        1.16614260e-01, -8.80570933e-02,  1.80149898e-01, -1.90137804e-01,\n",
              "       -2.27552921e-01,  5.98693080e-02, -5.41040778e-01, -2.52506495e-01,\n",
              "        1.98667377e-01,  2.10154906e-01, -4.97041374e-01, -2.04222605e-01,\n",
              "        5.21390259e-01, -2.77404934e-01,  5.17978966e-01,  3.87134075e-01,\n",
              "       -2.73151964e-01,  2.55433738e-01,  3.10108215e-01, -3.11457723e-01,\n",
              "        3.05611342e-01,  8.99441466e-02, -1.44365188e-02, -1.81751675e-03,\n",
              "       -3.30747217e-01,  2.05585018e-01,  1.29503801e-01,  2.33242720e-01,\n",
              "        3.75159413e-01,  1.76984936e-01, -1.10478647e-01,  2.88179331e-02,\n",
              "        9.41913798e-02,  1.21110715e-01, -8.24430957e-02, -2.27171015e-02,\n",
              "        3.93852741e-01,  3.43595535e-01,  1.81780800e-01,  6.95122600e-01,\n",
              "        1.48161994e-02, -1.96548119e-01, -2.32856348e-02,  1.15433417e-01,\n",
              "        2.71950155e-01,  3.86721641e-01,  4.88710552e-01,  6.32573888e-02,\n",
              "       -2.95516173e-03, -2.08437182e-02,  5.43260574e-01, -3.18803430e-01,\n",
              "        2.69692123e-01,  3.75796229e-01,  2.99387425e-01,  2.23542228e-01,\n",
              "        1.07352406e-01,  5.04274070e-01,  3.39911938e-01, -2.25819349e-01,\n",
              "       -4.51411217e-01,  6.98201731e-02,  2.55386382e-01,  2.33658012e-02,\n",
              "       -2.09405869e-01,  3.02714199e-01,  4.47612226e-01, -4.65745211e-01,\n",
              "       -4.91388440e-01,  3.53049755e-01,  4.96368110e-02,  4.32706296e-01,\n",
              "        4.43303138e-01, -7.96715263e-03, -6.27521947e-02,  3.11078038e-02,\n",
              "       -5.43823689e-02, -4.98779565e-01,  6.06287681e-02,  4.95277382e-02,\n",
              "       -2.34589074e-02, -2.25969553e-01,  3.39927822e-01,  3.08983177e-01,\n",
              "        2.00674906e-02, -3.54836672e-03, -2.31746212e-01,  1.27771482e-01,\n",
              "        5.07219076e-01, -2.21865848e-02, -4.26948935e-01, -1.54007196e-01,\n",
              "       -3.03110600e-01,  2.02135950e-01,  8.40012431e-02,  3.39009538e-02,\n",
              "       -7.15330690e-02,  6.86639026e-02,  8.08815435e-02,  1.04951099e-01,\n",
              "        7.85400644e-02, -1.81915522e-01,  9.55493823e-02, -4.44557294e-02,\n",
              "       -3.51318508e-01,  1.87818602e-01, -1.00792050e+00,  4.48312998e-01,\n",
              "       -3.89094144e-01, -2.39473149e-01, -5.04889250e-01,  1.45127669e-01,\n",
              "        4.68494445e-02,  5.43230288e-02,  1.93833653e-02, -2.34057948e-01,\n",
              "       -2.99274176e-02,  1.26086473e-01,  1.79034472e-01,  3.50678831e-01,\n",
              "       -6.12630606e-01, -6.98375031e-02, -2.40977839e-01,  1.14533193e-01,\n",
              "        2.96802670e-01, -2.01718688e-01, -3.23554248e-01,  5.24458408e-01,\n",
              "       -4.16367680e-01,  7.55809009e-01, -2.51070291e-01, -4.22034860e-02,\n",
              "       -6.44964650e-02,  1.06079765e-01,  2.01649845e-01, -1.90224906e-03,\n",
              "        4.04490024e-01, -3.48828137e-01, -1.37637720e-01, -3.09360385e-01,\n",
              "        2.73089826e-01,  2.18454912e-01, -1.22534476e-01,  3.51379156e-01,\n",
              "        1.05994195e-01, -5.11577547e-01,  8.51208270e-02, -8.36718008e-02,\n",
              "        4.95860167e-02, -1.27744019e-01,  2.56047606e-01, -3.85116428e-01,\n",
              "       -1.79016411e-01, -6.25280678e-01, -1.24155574e-01,  8.72378349e-02],\n",
              "      dtype=float32)"
            ]
          },
          "metadata": {},
          "execution_count": 274
        }
      ]
    },
    {
      "cell_type": "markdown",
      "source": [
        "# Model design & predict text classification"
      ],
      "metadata": {
        "id": "EWeK9ZpobVCb"
      }
    },
    {
      "cell_type": "code",
      "source": [
        "import numpy as np\n",
        "\n",
        "def fix_NAN_inf_values(x):\n",
        "    '''Replace NaN with zero and infinity with large finite numbers'''\n",
        "    if x is None:\n",
        "        return np.zeros_like(x)\n",
        "    if len(np.where(np.isnan(x))[0]) > 0 or len(np.where(np.isnan(x))[1]) > 0:\n",
        "        return np.nan_to_num(x)\n",
        "    return x\n",
        "\n",
        "## compute cosine similarities\n",
        "similarities = np.dot(fix_NAN_inf_values(X), fix_NAN_inf_values(np.array(list(dic_y.values()))).T)\n",
        "\n",
        "## adjust and rescale\n",
        "similarities_adjusted = np.where(similarities > 0, similarities, 0)  # assign zero if similarity is negative\n",
        "similarities_rescaled = similarities_adjusted / np.sum(similarities_adjusted, axis=1, keepdims=True)  # rescale so they sum to 1\n",
        "\n",
        "## classify the label with the highest similarity score\n",
        "predicted_prob = similarities_rescaled\n",
        "predicted = [list(dic_clusters.keys())[np.argmax(pred)] for pred in predicted_prob]\n"
      ],
      "metadata": {
        "id": "mP2JbZ0WbBAJ"
      },
      "execution_count": 275,
      "outputs": []
    },
    {
      "cell_type": "code",
      "source": [
        "# Model evaluation\n",
        "\n",
        "from sklearn.metrics import classification_report\n",
        "\n",
        "true_labels = df[\"category\"].tolist()\n",
        "\n",
        "print(\"Classification Report:\")\n",
        "print(classification_report(true_labels, predicted))\n",
        "\n",
        "# Visualize the classification results\n",
        "\n",
        "df[\"predicted_category\"] = predicted\n",
        "\n",
        "## plot\n",
        "plt.figure(figsize=(6, 6))\n",
        "sns.countplot(data=df, x=\"predicted_category\", order=df[\"predicted_category\"].value_counts().index)\n",
        "plt.title(\"Predicted Categories\")\n",
        "plt.xlabel(\"Category\")\n",
        "plt.ylabel(\"Count\")\n",
        "plt.xticks(rotation=45)\n",
        "plt.show()\n"
      ],
      "metadata": {
        "id": "Ndo_vZsPcuDE",
        "colab": {
          "base_uri": "https://localhost:8080/",
          "height": 959
        },
        "outputId": "83a5b70a-13fb-44d5-e2b3-06bf9646f148"
      },
      "execution_count": 276,
      "outputs": [
        {
          "output_type": "stream",
          "name": "stderr",
          "text": [
            "/usr/local/lib/python3.10/dist-packages/sklearn/metrics/_classification.py:1344: UndefinedMetricWarning: Recall and F-score are ill-defined and being set to 0.0 in labels with no true samples. Use `zero_division` parameter to control this behavior.\n",
            "  _warn_prf(average, modifier, msg_start, len(result))\n",
            "/usr/local/lib/python3.10/dist-packages/sklearn/metrics/_classification.py:1344: UndefinedMetricWarning: Recall and F-score are ill-defined and being set to 0.0 in labels with no true samples. Use `zero_division` parameter to control this behavior.\n",
            "  _warn_prf(average, modifier, msg_start, len(result))\n",
            "/usr/local/lib/python3.10/dist-packages/sklearn/metrics/_classification.py:1344: UndefinedMetricWarning: Recall and F-score are ill-defined and being set to 0.0 in labels with no true samples. Use `zero_division` parameter to control this behavior.\n",
            "  _warn_prf(average, modifier, msg_start, len(result))\n"
          ]
        },
        {
          "output_type": "stream",
          "name": "stdout",
          "text": [
            "Classification Report:\n",
            "              precision    recall  f1-score   support\n",
            "\n",
            "  applicator       1.00      0.46      0.63        68\n",
            "   architect       0.00      0.00      0.00         0\n",
            "  influencer       0.00      0.00      0.00         0\n",
            "manufacturer       0.00      0.00      0.00         0\n",
            "\n",
            "    accuracy                           0.46        68\n",
            "   macro avg       0.25      0.11      0.16        68\n",
            "weighted avg       1.00      0.46      0.63        68\n",
            "\n"
          ]
        },
        {
          "output_type": "display_data",
          "data": {
            "text/plain": [
              "<Figure size 600x600 with 1 Axes>"
            ],
            "image/png": "[encoded data removed]"
          },
          "metadata": {}
        }
      ]
    }
  ]
}